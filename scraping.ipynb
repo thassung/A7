{
 "cells": [
  {
   "cell_type": "code",
   "execution_count": 1,
   "metadata": {},
   "outputs": [],
   "source": [
    "import requests\n",
    "from bs4 import BeautifulSoup\n",
    "from tqdm import tqdm\n",
    "import json"
   ]
  },
  {
   "cell_type": "code",
   "execution_count": 2,
   "metadata": {},
   "outputs": [],
   "source": [
    "def getdata(url):\n",
    "\tr = requests.get(url)\n",
    "\treturn r.text"
   ]
  },
  {
   "cell_type": "code",
   "execution_count": 3,
   "metadata": {},
   "outputs": [],
   "source": [
    "file_path = '.'"
   ]
  },
  {
   "cell_type": "code",
   "execution_count": 4,
   "metadata": {},
   "outputs": [],
   "source": [
    "website = \"https://ait.ac.th/\""
   ]
  },
  {
   "cell_type": "code",
   "execution_count": 5,
   "metadata": {},
   "outputs": [],
   "source": [
    "dict_href_links = {}\n",
    "pdf_links = set()\n",
    "\n",
    "def get_links(website_link):\n",
    "\thtml_data = getdata(website_link)\n",
    "\tsoup = BeautifulSoup(html_data, \"html.parser\")\n",
    "\tlist_links = []\n",
    "\tfor link in soup.find_all(\"a\", href=True):\n",
    "\n",
    "\t\tlink_str = str(link[\"href\"])\n",
    "\n",
    "\t\tif link_str.startswith((str(website))):\n",
    "\t\t\tlist_links.append(link[\"href\"])\n",
    "\n",
    "\t\t# Include all href that do not start with website link but with \"/\"\n",
    "\t\tif link_str.startswith(\"/\"):\n",
    "\t\t\tif link[\"href\"] not in dict_href_links:\n",
    "\t\t\t\t# print(link[\"href\"])\n",
    "\t\t\t\tdict_href_links[link[\"href\"]] = None\n",
    "\t\t\t\tlink_with_www = website_link + link[\"href\"][1:]\n",
    "\t\t\t\t# print(\"adjusted link =\", link_with_www)\n",
    "\t\t\t\tlist_links.append(link_with_www)\n",
    "\t\t\n",
    "\t\tif link_str.endswith(\".pdf\"):\n",
    "\t\t\tif link_str.startswith(\"/\"):\n",
    "\t\t\t\tfile_link_with_www = website_link + link[\"href\"][1:]\n",
    "\t\t\telse:\n",
    "\t\t\t\tfile_link_with_www = link_str\n",
    "\n",
    "\t\t\tif file_link_with_www not in pdf_links:\n",
    "\t\t\t\tpdf_response = requests.get(file_link_with_www)\n",
    "\t\t\t\twith open(f\"{file_path}/data/pdf/{file_link_with_www.split('/')[-1]}\", 'wb') as file:\n",
    "\t\t\t\t\tfile.write(pdf_response.content)\n",
    "\t\t\t\tpdf_links.add(file_link_with_www)\n",
    "\n",
    "\t# Convert list of links to dictionary and define keys as the links and the values as \"Not-checked\"\n",
    "\tdict_links = dict.fromkeys(list_links, \"Not-checked\")\n",
    "\treturn dict_links"
   ]
  },
  {
   "cell_type": "code",
   "execution_count": 6,
   "metadata": {},
   "outputs": [],
   "source": [
    "def get_subpage_links(l):\n",
    "\tfor link in tqdm(l):\n",
    "\t\t# If not crawled through this page start crawling and get links\n",
    "\t\tif l[link] == \"Not-checked\":\n",
    "\t\t\tdict_links_subpages = get_links(link)\n",
    "\t\t\t# Change the dictionary value of the link to \"Checked\"\n",
    "\t\t\tl[link] = \"Checked\"\n",
    "\t\telse:\n",
    "\t\t\t# Create an empty dictionary in case every link is checked\n",
    "\t\t\tdict_links_subpages = {}\n",
    "\t\t# Add new dictionary to old dictionary\n",
    "\t\tl = {**dict_links_subpages, **l}\n",
    "\treturn l"
   ]
  },
  {
   "cell_type": "code",
   "execution_count": 7,
   "metadata": {},
   "outputs": [
    {
     "name": "stderr",
     "output_type": "stream",
     "text": [
      "  0%|          | 0/1 [00:00<?, ?it/s]"
     ]
    },
    {
     "name": "stderr",
     "output_type": "stream",
     "text": [
      "100%|██████████| 1/1 [00:01<00:00,  1.20s/it]\n"
     ]
    },
    {
     "name": "stdout",
     "output_type": "stream",
     "text": [
      "\n",
      "THIS IS LOOP ITERATION NUMBER 1\n",
      "LENGTH OF DICTIONARY WITH LINKS = 71\n",
      "NUMBER OF 'Not-checked' LINKS =  70\n",
      "\n"
     ]
    },
    {
     "name": "stderr",
     "output_type": "stream",
     "text": [
      "100%|██████████| 71/71 [02:02<00:00,  1.73s/it]\n"
     ]
    },
    {
     "name": "stdout",
     "output_type": "stream",
     "text": [
      "\n",
      "THIS IS LOOP ITERATION NUMBER 2\n",
      "LENGTH OF DICTIONARY WITH LINKS = 448\n",
      "NUMBER OF 'Not-checked' LINKS =  377\n",
      "\n"
     ]
    },
    {
     "name": "stderr",
     "output_type": "stream",
     "text": [
      " 17%|█▋        | 78/448 [01:54<09:03,  1.47s/it]\n"
     ]
    },
    {
     "ename": "MissingSchema",
     "evalue": "Invalid URL '/wp-content/uploads/2022/12/DFAB-Broucher-Updated-28.10.2022.pdf': No scheme supplied. Perhaps you meant https:///wp-content/uploads/2022/12/DFAB-Broucher-Updated-28.10.2022.pdf?",
     "output_type": "error",
     "traceback": [
      "\u001b[1;31m---------------------------------------------------------------------------\u001b[0m",
      "\u001b[1;31mMissingSchema\u001b[0m                             Traceback (most recent call last)",
      "\u001b[1;32md:\\Work + Project\\2024 Spring\\NLP\\A7\\scraping.ipynb Cell 7\u001b[0m line \u001b[0;36m9\n\u001b[0;32m      <a href='vscode-notebook-cell:/d%3A/Work%20%2B%20Project/2024%20Spring/NLP/A7/scraping.ipynb#W4sZmlsZQ%3D%3D?line=6'>7</a>\u001b[0m \u001b[39mwhile\u001b[39;00m counter \u001b[39m!=\u001b[39m \u001b[39m0\u001b[39m:\n\u001b[0;32m      <a href='vscode-notebook-cell:/d%3A/Work%20%2B%20Project/2024%20Spring/NLP/A7/scraping.ipynb#W4sZmlsZQ%3D%3D?line=7'>8</a>\u001b[0m \tcounter2 \u001b[39m+\u001b[39m\u001b[39m=\u001b[39m \u001b[39m1\u001b[39m\n\u001b[1;32m----> <a href='vscode-notebook-cell:/d%3A/Work%20%2B%20Project/2024%20Spring/NLP/A7/scraping.ipynb#W4sZmlsZQ%3D%3D?line=8'>9</a>\u001b[0m \tdict_links2 \u001b[39m=\u001b[39m get_subpage_links(dict_links)\n\u001b[0;32m     <a href='vscode-notebook-cell:/d%3A/Work%20%2B%20Project/2024%20Spring/NLP/A7/scraping.ipynb#W4sZmlsZQ%3D%3D?line=9'>10</a>\u001b[0m \t\u001b[39m# Count number of non-values and set counter to 0 if there are no values within the dictionary equal to the string \"Not-checked\"\u001b[39;00m\n\u001b[0;32m     <a href='vscode-notebook-cell:/d%3A/Work%20%2B%20Project/2024%20Spring/NLP/A7/scraping.ipynb#W4sZmlsZQ%3D%3D?line=10'>11</a>\u001b[0m \t\u001b[39m# https://stackoverflow.com/questions/48371856/count-the-number-of-occurrences-of-a-certain-value-in-a-dictionary-in-python\u001b[39;00m\n\u001b[0;32m     <a href='vscode-notebook-cell:/d%3A/Work%20%2B%20Project/2024%20Spring/NLP/A7/scraping.ipynb#W4sZmlsZQ%3D%3D?line=11'>12</a>\u001b[0m \tcounter \u001b[39m=\u001b[39m \u001b[39msum\u001b[39m(value \u001b[39m==\u001b[39m \u001b[39m\"\u001b[39m\u001b[39mNot-checked\u001b[39m\u001b[39m\"\u001b[39m \u001b[39mfor\u001b[39;00m value \u001b[39min\u001b[39;00m dict_links2\u001b[39m.\u001b[39mvalues())\n",
      "\u001b[1;32md:\\Work + Project\\2024 Spring\\NLP\\A7\\scraping.ipynb Cell 7\u001b[0m line \u001b[0;36m5\n\u001b[0;32m      <a href='vscode-notebook-cell:/d%3A/Work%20%2B%20Project/2024%20Spring/NLP/A7/scraping.ipynb#W4sZmlsZQ%3D%3D?line=1'>2</a>\u001b[0m \u001b[39mfor\u001b[39;00m link \u001b[39min\u001b[39;00m tqdm(l):\n\u001b[0;32m      <a href='vscode-notebook-cell:/d%3A/Work%20%2B%20Project/2024%20Spring/NLP/A7/scraping.ipynb#W4sZmlsZQ%3D%3D?line=2'>3</a>\u001b[0m \t\u001b[39m# If not crawled through this page start crawling and get links\u001b[39;00m\n\u001b[0;32m      <a href='vscode-notebook-cell:/d%3A/Work%20%2B%20Project/2024%20Spring/NLP/A7/scraping.ipynb#W4sZmlsZQ%3D%3D?line=3'>4</a>\u001b[0m \t\u001b[39mif\u001b[39;00m l[link] \u001b[39m==\u001b[39m \u001b[39m\"\u001b[39m\u001b[39mNot-checked\u001b[39m\u001b[39m\"\u001b[39m:\n\u001b[1;32m----> <a href='vscode-notebook-cell:/d%3A/Work%20%2B%20Project/2024%20Spring/NLP/A7/scraping.ipynb#W4sZmlsZQ%3D%3D?line=4'>5</a>\u001b[0m \t\tdict_links_subpages \u001b[39m=\u001b[39m get_links(link)\n\u001b[0;32m      <a href='vscode-notebook-cell:/d%3A/Work%20%2B%20Project/2024%20Spring/NLP/A7/scraping.ipynb#W4sZmlsZQ%3D%3D?line=5'>6</a>\u001b[0m \t\t\u001b[39m# Change the dictionary value of the link to \"Checked\"\u001b[39;00m\n\u001b[0;32m      <a href='vscode-notebook-cell:/d%3A/Work%20%2B%20Project/2024%20Spring/NLP/A7/scraping.ipynb#W4sZmlsZQ%3D%3D?line=6'>7</a>\u001b[0m \t\tl[link] \u001b[39m=\u001b[39m \u001b[39m\"\u001b[39m\u001b[39mChecked\u001b[39m\u001b[39m\"\u001b[39m\n",
      "\u001b[1;32md:\\Work + Project\\2024 Spring\\NLP\\A7\\scraping.ipynb Cell 7\u001b[0m line \u001b[0;36m2\n\u001b[0;32m     <a href='vscode-notebook-cell:/d%3A/Work%20%2B%20Project/2024%20Spring/NLP/A7/scraping.ipynb#W4sZmlsZQ%3D%3D?line=23'>24</a>\u001b[0m \u001b[39mif\u001b[39;00m link_str\u001b[39m.\u001b[39mendswith(\u001b[39m\"\u001b[39m\u001b[39m.pdf\u001b[39m\u001b[39m\"\u001b[39m):\n\u001b[0;32m     <a href='vscode-notebook-cell:/d%3A/Work%20%2B%20Project/2024%20Spring/NLP/A7/scraping.ipynb#W4sZmlsZQ%3D%3D?line=24'>25</a>\u001b[0m \t\u001b[39mif\u001b[39;00m link_str \u001b[39mnot\u001b[39;00m \u001b[39min\u001b[39;00m pdf_links:\n\u001b[1;32m---> <a href='vscode-notebook-cell:/d%3A/Work%20%2B%20Project/2024%20Spring/NLP/A7/scraping.ipynb#W4sZmlsZQ%3D%3D?line=25'>26</a>\u001b[0m \t\tpdf_response \u001b[39m=\u001b[39m requests\u001b[39m.\u001b[39;49mget(link_str)\n\u001b[0;32m     <a href='vscode-notebook-cell:/d%3A/Work%20%2B%20Project/2024%20Spring/NLP/A7/scraping.ipynb#W4sZmlsZQ%3D%3D?line=26'>27</a>\u001b[0m \t\t\u001b[39mwith\u001b[39;00m \u001b[39mopen\u001b[39m(\u001b[39mf\u001b[39m\u001b[39m\"\u001b[39m\u001b[39m{\u001b[39;00mfile_path\u001b[39m}\u001b[39;00m\u001b[39m/data/pdf/\u001b[39m\u001b[39m{\u001b[39;00mlink_str\u001b[39m.\u001b[39msplit(\u001b[39m'\u001b[39m\u001b[39m/\u001b[39m\u001b[39m'\u001b[39m)[\u001b[39m-\u001b[39m\u001b[39m1\u001b[39m]\u001b[39m}\u001b[39;00m\u001b[39m\"\u001b[39m, \u001b[39m'\u001b[39m\u001b[39mwb\u001b[39m\u001b[39m'\u001b[39m) \u001b[39mas\u001b[39;00m file:\n\u001b[0;32m     <a href='vscode-notebook-cell:/d%3A/Work%20%2B%20Project/2024%20Spring/NLP/A7/scraping.ipynb#W4sZmlsZQ%3D%3D?line=27'>28</a>\u001b[0m \t\t\tfile\u001b[39m.\u001b[39mwrite(pdf_response\u001b[39m.\u001b[39mcontent)\n",
      "File \u001b[1;32mc:\\Users\\sung2_8l7o06c\\AppData\\Local\\Programs\\Python\\Python311\\Lib\\site-packages\\requests\\api.py:73\u001b[0m, in \u001b[0;36mget\u001b[1;34m(url, params, **kwargs)\u001b[0m\n\u001b[0;32m     62\u001b[0m \u001b[39mdef\u001b[39;00m \u001b[39mget\u001b[39m(url, params\u001b[39m=\u001b[39m\u001b[39mNone\u001b[39;00m, \u001b[39m*\u001b[39m\u001b[39m*\u001b[39mkwargs):\n\u001b[0;32m     63\u001b[0m \u001b[39m    \u001b[39m\u001b[39mr\u001b[39m\u001b[39m\"\"\"Sends a GET request.\u001b[39;00m\n\u001b[0;32m     64\u001b[0m \n\u001b[0;32m     65\u001b[0m \u001b[39m    :param url: URL for the new :class:`Request` object.\u001b[39;00m\n\u001b[1;32m   (...)\u001b[0m\n\u001b[0;32m     70\u001b[0m \u001b[39m    :rtype: requests.Response\u001b[39;00m\n\u001b[0;32m     71\u001b[0m \u001b[39m    \"\"\"\u001b[39;00m\n\u001b[1;32m---> 73\u001b[0m     \u001b[39mreturn\u001b[39;00m request(\u001b[39m\"\u001b[39;49m\u001b[39mget\u001b[39;49m\u001b[39m\"\u001b[39;49m, url, params\u001b[39m=\u001b[39;49mparams, \u001b[39m*\u001b[39;49m\u001b[39m*\u001b[39;49mkwargs)\n",
      "File \u001b[1;32mc:\\Users\\sung2_8l7o06c\\AppData\\Local\\Programs\\Python\\Python311\\Lib\\site-packages\\requests\\api.py:59\u001b[0m, in \u001b[0;36mrequest\u001b[1;34m(method, url, **kwargs)\u001b[0m\n\u001b[0;32m     55\u001b[0m \u001b[39m# By using the 'with' statement we are sure the session is closed, thus we\u001b[39;00m\n\u001b[0;32m     56\u001b[0m \u001b[39m# avoid leaving sockets open which can trigger a ResourceWarning in some\u001b[39;00m\n\u001b[0;32m     57\u001b[0m \u001b[39m# cases, and look like a memory leak in others.\u001b[39;00m\n\u001b[0;32m     58\u001b[0m \u001b[39mwith\u001b[39;00m sessions\u001b[39m.\u001b[39mSession() \u001b[39mas\u001b[39;00m session:\n\u001b[1;32m---> 59\u001b[0m     \u001b[39mreturn\u001b[39;00m session\u001b[39m.\u001b[39;49mrequest(method\u001b[39m=\u001b[39;49mmethod, url\u001b[39m=\u001b[39;49murl, \u001b[39m*\u001b[39;49m\u001b[39m*\u001b[39;49mkwargs)\n",
      "File \u001b[1;32mc:\\Users\\sung2_8l7o06c\\AppData\\Local\\Programs\\Python\\Python311\\Lib\\site-packages\\requests\\sessions.py:575\u001b[0m, in \u001b[0;36mSession.request\u001b[1;34m(self, method, url, params, data, headers, cookies, files, auth, timeout, allow_redirects, proxies, hooks, stream, verify, cert, json)\u001b[0m\n\u001b[0;32m    562\u001b[0m \u001b[39m# Create the Request.\u001b[39;00m\n\u001b[0;32m    563\u001b[0m req \u001b[39m=\u001b[39m Request(\n\u001b[0;32m    564\u001b[0m     method\u001b[39m=\u001b[39mmethod\u001b[39m.\u001b[39mupper(),\n\u001b[0;32m    565\u001b[0m     url\u001b[39m=\u001b[39murl,\n\u001b[1;32m   (...)\u001b[0m\n\u001b[0;32m    573\u001b[0m     hooks\u001b[39m=\u001b[39mhooks,\n\u001b[0;32m    574\u001b[0m )\n\u001b[1;32m--> 575\u001b[0m prep \u001b[39m=\u001b[39m \u001b[39mself\u001b[39;49m\u001b[39m.\u001b[39;49mprepare_request(req)\n\u001b[0;32m    577\u001b[0m proxies \u001b[39m=\u001b[39m proxies \u001b[39mor\u001b[39;00m {}\n\u001b[0;32m    579\u001b[0m settings \u001b[39m=\u001b[39m \u001b[39mself\u001b[39m\u001b[39m.\u001b[39mmerge_environment_settings(\n\u001b[0;32m    580\u001b[0m     prep\u001b[39m.\u001b[39murl, proxies, stream, verify, cert\n\u001b[0;32m    581\u001b[0m )\n",
      "File \u001b[1;32mc:\\Users\\sung2_8l7o06c\\AppData\\Local\\Programs\\Python\\Python311\\Lib\\site-packages\\requests\\sessions.py:486\u001b[0m, in \u001b[0;36mSession.prepare_request\u001b[1;34m(self, request)\u001b[0m\n\u001b[0;32m    483\u001b[0m     auth \u001b[39m=\u001b[39m get_netrc_auth(request\u001b[39m.\u001b[39murl)\n\u001b[0;32m    485\u001b[0m p \u001b[39m=\u001b[39m PreparedRequest()\n\u001b[1;32m--> 486\u001b[0m p\u001b[39m.\u001b[39;49mprepare(\n\u001b[0;32m    487\u001b[0m     method\u001b[39m=\u001b[39;49mrequest\u001b[39m.\u001b[39;49mmethod\u001b[39m.\u001b[39;49mupper(),\n\u001b[0;32m    488\u001b[0m     url\u001b[39m=\u001b[39;49mrequest\u001b[39m.\u001b[39;49murl,\n\u001b[0;32m    489\u001b[0m     files\u001b[39m=\u001b[39;49mrequest\u001b[39m.\u001b[39;49mfiles,\n\u001b[0;32m    490\u001b[0m     data\u001b[39m=\u001b[39;49mrequest\u001b[39m.\u001b[39;49mdata,\n\u001b[0;32m    491\u001b[0m     json\u001b[39m=\u001b[39;49mrequest\u001b[39m.\u001b[39;49mjson,\n\u001b[0;32m    492\u001b[0m     headers\u001b[39m=\u001b[39;49mmerge_setting(\n\u001b[0;32m    493\u001b[0m         request\u001b[39m.\u001b[39;49mheaders, \u001b[39mself\u001b[39;49m\u001b[39m.\u001b[39;49mheaders, dict_class\u001b[39m=\u001b[39;49mCaseInsensitiveDict\n\u001b[0;32m    494\u001b[0m     ),\n\u001b[0;32m    495\u001b[0m     params\u001b[39m=\u001b[39;49mmerge_setting(request\u001b[39m.\u001b[39;49mparams, \u001b[39mself\u001b[39;49m\u001b[39m.\u001b[39;49mparams),\n\u001b[0;32m    496\u001b[0m     auth\u001b[39m=\u001b[39;49mmerge_setting(auth, \u001b[39mself\u001b[39;49m\u001b[39m.\u001b[39;49mauth),\n\u001b[0;32m    497\u001b[0m     cookies\u001b[39m=\u001b[39;49mmerged_cookies,\n\u001b[0;32m    498\u001b[0m     hooks\u001b[39m=\u001b[39;49mmerge_hooks(request\u001b[39m.\u001b[39;49mhooks, \u001b[39mself\u001b[39;49m\u001b[39m.\u001b[39;49mhooks),\n\u001b[0;32m    499\u001b[0m )\n\u001b[0;32m    500\u001b[0m \u001b[39mreturn\u001b[39;00m p\n",
      "File \u001b[1;32mc:\\Users\\sung2_8l7o06c\\AppData\\Local\\Programs\\Python\\Python311\\Lib\\site-packages\\requests\\models.py:368\u001b[0m, in \u001b[0;36mPreparedRequest.prepare\u001b[1;34m(self, method, url, headers, files, data, params, auth, cookies, hooks, json)\u001b[0m\n\u001b[0;32m    365\u001b[0m \u001b[39m\u001b[39m\u001b[39m\"\"\"Prepares the entire request with the given parameters.\"\"\"\u001b[39;00m\n\u001b[0;32m    367\u001b[0m \u001b[39mself\u001b[39m\u001b[39m.\u001b[39mprepare_method(method)\n\u001b[1;32m--> 368\u001b[0m \u001b[39mself\u001b[39;49m\u001b[39m.\u001b[39;49mprepare_url(url, params)\n\u001b[0;32m    369\u001b[0m \u001b[39mself\u001b[39m\u001b[39m.\u001b[39mprepare_headers(headers)\n\u001b[0;32m    370\u001b[0m \u001b[39mself\u001b[39m\u001b[39m.\u001b[39mprepare_cookies(cookies)\n",
      "File \u001b[1;32mc:\\Users\\sung2_8l7o06c\\AppData\\Local\\Programs\\Python\\Python311\\Lib\\site-packages\\requests\\models.py:439\u001b[0m, in \u001b[0;36mPreparedRequest.prepare_url\u001b[1;34m(self, url, params)\u001b[0m\n\u001b[0;32m    436\u001b[0m     \u001b[39mraise\u001b[39;00m InvalidURL(\u001b[39m*\u001b[39me\u001b[39m.\u001b[39margs)\n\u001b[0;32m    438\u001b[0m \u001b[39mif\u001b[39;00m \u001b[39mnot\u001b[39;00m scheme:\n\u001b[1;32m--> 439\u001b[0m     \u001b[39mraise\u001b[39;00m MissingSchema(\n\u001b[0;32m    440\u001b[0m         \u001b[39mf\u001b[39m\u001b[39m\"\u001b[39m\u001b[39mInvalid URL \u001b[39m\u001b[39m{\u001b[39;00murl\u001b[39m!r}\u001b[39;00m\u001b[39m: No scheme supplied. \u001b[39m\u001b[39m\"\u001b[39m\n\u001b[0;32m    441\u001b[0m         \u001b[39mf\u001b[39m\u001b[39m\"\u001b[39m\u001b[39mPerhaps you meant https://\u001b[39m\u001b[39m{\u001b[39;00murl\u001b[39m}\u001b[39;00m\u001b[39m?\u001b[39m\u001b[39m\"\u001b[39m\n\u001b[0;32m    442\u001b[0m     )\n\u001b[0;32m    444\u001b[0m \u001b[39mif\u001b[39;00m \u001b[39mnot\u001b[39;00m host:\n\u001b[0;32m    445\u001b[0m     \u001b[39mraise\u001b[39;00m InvalidURL(\u001b[39mf\u001b[39m\u001b[39m\"\u001b[39m\u001b[39mInvalid URL \u001b[39m\u001b[39m{\u001b[39;00murl\u001b[39m!r}\u001b[39;00m\u001b[39m: No host supplied\u001b[39m\u001b[39m\"\u001b[39m)\n",
      "\u001b[1;31mMissingSchema\u001b[0m: Invalid URL '/wp-content/uploads/2022/12/DFAB-Broucher-Updated-28.10.2022.pdf': No scheme supplied. Perhaps you meant https:///wp-content/uploads/2022/12/DFAB-Broucher-Updated-28.10.2022.pdf?"
     ]
    }
   ],
   "source": [
    "# add websuite WITH slash on end\n",
    "website = \"https://ait.ac.th/\"\n",
    "# create dictionary of website\n",
    "dict_links = {website:\"Not-checked\"}\n",
    "\n",
    "counter, counter2 = None, 0\n",
    "while counter != 0:\n",
    "\tcounter2 += 1\n",
    "\tdict_links2 = get_subpage_links(dict_links)\n",
    "\t# Count number of non-values and set counter to 0 if there are no values within the dictionary equal to the string \"Not-checked\"\n",
    "\t# https://stackoverflow.com/questions/48371856/count-the-number-of-occurrences-of-a-certain-value-in-a-dictionary-in-python\n",
    "\tcounter = sum(value == \"Not-checked\" for value in dict_links2.values())\n",
    "\t# Print some statements\n",
    "\tprint(\"\")\n",
    "\tprint(\"THIS IS LOOP ITERATION NUMBER\", counter2)\n",
    "\tprint(\"LENGTH OF DICTIONARY WITH LINKS =\", len(dict_links2))\n",
    "\tprint(\"NUMBER OF 'Not-checked' LINKS = \", counter)\n",
    "\tprint(\"\")\n",
    "\tdict_links = dict_links2\n",
    "\t# Save list in json file\n",
    "\ta_file = open(\"links.json\", \"w\")\n",
    "\tjson.dump(dict_links, a_file)\n",
    "\ta_file.close()"
   ]
  }
 ],
 "metadata": {
  "kernelspec": {
   "display_name": "Python 3",
   "language": "python",
   "name": "python3"
  },
  "language_info": {
   "codemirror_mode": {
    "name": "ipython",
    "version": 3
   },
   "file_extension": ".py",
   "mimetype": "text/x-python",
   "name": "python",
   "nbconvert_exporter": "python",
   "pygments_lexer": "ipython3",
   "version": "3.11.5"
  }
 },
 "nbformat": 4,
 "nbformat_minor": 2
}

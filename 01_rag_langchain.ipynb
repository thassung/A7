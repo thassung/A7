{
  "cells": [
    {
      "cell_type": "markdown",
      "metadata": {
        "id": "lQIMVpYHoNnw"
      },
      "source": [
        "# Natural Language Processing\n",
        "\n",
        "# Retrieval-Augmented generation (RAG)\n",
        "\n",
        "RAG is a technique for augmenting LLM knowledge with additional, often private or real-time, data.\n",
        "\n",
        "LLMs can reason about wide-ranging topics, but their knowledge is limited to the public data up to a specific point in time that they were trained on. If you want to build AI applications that can reason about private data or data introduced after a model’s cutoff date, you need to augment the knowledge of the model with the specific information it needs.\n",
        "\n",
        "<img src=\"../figures/RAG-process.png\" >\n",
        "\n",
        "Introducing `ChakyBot`, an innovative chatbot designed to assist Chaky (the instructor) and TA (Gun) in explaining the lesson of the NLP course to students. Leveraging LangChain technology, ChakyBot excels in retrieving information from documents, ensuring a seamless and efficient learning experience for students engaging with the NLP curriculum.\n",
        "\n",
        "1. Prompt\n",
        "2. Retrieval\n",
        "3. Memory\n",
        "4. Chain"
      ]
    },
    {
      "cell_type": "code",
      "execution_count": 1,
      "metadata": {
        "colab": {
          "base_uri": "https://localhost:8080/"
        },
        "id": "XUXwHpPsviCl",
        "outputId": "d69dc243-bbbf-4c06-b9d4-e21f99704a0f"
      },
      "outputs": [
        {
          "name": "stdout",
          "output_type": "stream",
          "text": [
            "Drive already mounted at /content/drive; to attempt to forcibly remount, call drive.mount(\"/content/drive\", force_remount=True).\n"
          ]
        }
      ],
      "source": [
        "from google.colab import drive\n",
        "drive.mount('/content/drive')"
      ]
    },
    {
      "cell_type": "code",
      "execution_count": 2,
      "metadata": {
        "colab": {
          "base_uri": "https://localhost:8080/"
        },
        "id": "HchUsKFNoNn5",
        "outputId": "b70f043a-3e62-4074-9f6c-f14d8a88aff0"
      },
      "outputs": [
        {
          "name": "stdout",
          "output_type": "stream",
          "text": [
            "Requirement already satisfied: langchain==0.1.0 in /usr/local/lib/python3.10/dist-packages (0.1.0)\n",
            "Requirement already satisfied: PyYAML>=5.3 in /usr/local/lib/python3.10/dist-packages (from langchain==0.1.0) (6.0.1)\n",
            "Requirement already satisfied: SQLAlchemy<3,>=1.4 in /usr/local/lib/python3.10/dist-packages (from langchain==0.1.0) (2.0.28)\n",
            "Requirement already satisfied: aiohttp<4.0.0,>=3.8.3 in /usr/local/lib/python3.10/dist-packages (from langchain==0.1.0) (3.9.3)\n",
            "Requirement already satisfied: async-timeout<5.0.0,>=4.0.0 in /usr/local/lib/python3.10/dist-packages (from langchain==0.1.0) (4.0.3)\n",
            "Requirement already satisfied: dataclasses-json<0.7,>=0.5.7 in /usr/local/lib/python3.10/dist-packages (from langchain==0.1.0) (0.6.4)\n",
            "Requirement already satisfied: jsonpatch<2.0,>=1.33 in /usr/local/lib/python3.10/dist-packages (from langchain==0.1.0) (1.33)\n",
            "Requirement already satisfied: langchain-community<0.1,>=0.0.9 in /usr/local/lib/python3.10/dist-packages (from langchain==0.1.0) (0.0.20)\n",
            "Requirement already satisfied: langchain-core<0.2,>=0.1.7 in /usr/local/lib/python3.10/dist-packages (from langchain==0.1.0) (0.1.23)\n",
            "Requirement already satisfied: langsmith<0.1.0,>=0.0.77 in /usr/local/lib/python3.10/dist-packages (from langchain==0.1.0) (0.0.87)\n",
            "Requirement already satisfied: numpy<2,>=1 in /usr/local/lib/python3.10/dist-packages (from langchain==0.1.0) (1.25.2)\n",
            "Requirement already satisfied: pydantic<3,>=1 in /usr/local/lib/python3.10/dist-packages (from langchain==0.1.0) (2.6.4)\n",
            "Requirement already satisfied: requests<3,>=2 in /usr/local/lib/python3.10/dist-packages (from langchain==0.1.0) (2.31.0)\n",
            "Requirement already satisfied: tenacity<9.0.0,>=8.1.0 in /usr/local/lib/python3.10/dist-packages (from langchain==0.1.0) (8.2.3)\n",
            "Requirement already satisfied: aiosignal>=1.1.2 in /usr/local/lib/python3.10/dist-packages (from aiohttp<4.0.0,>=3.8.3->langchain==0.1.0) (1.3.1)\n",
            "Requirement already satisfied: attrs>=17.3.0 in /usr/local/lib/python3.10/dist-packages (from aiohttp<4.0.0,>=3.8.3->langchain==0.1.0) (23.2.0)\n",
            "Requirement already satisfied: frozenlist>=1.1.1 in /usr/local/lib/python3.10/dist-packages (from aiohttp<4.0.0,>=3.8.3->langchain==0.1.0) (1.4.1)\n",
            "Requirement already satisfied: multidict<7.0,>=4.5 in /usr/local/lib/python3.10/dist-packages (from aiohttp<4.0.0,>=3.8.3->langchain==0.1.0) (6.0.5)\n",
            "Requirement already satisfied: yarl<2.0,>=1.0 in /usr/local/lib/python3.10/dist-packages (from aiohttp<4.0.0,>=3.8.3->langchain==0.1.0) (1.9.4)\n",
            "Requirement already satisfied: marshmallow<4.0.0,>=3.18.0 in /usr/local/lib/python3.10/dist-packages (from dataclasses-json<0.7,>=0.5.7->langchain==0.1.0) (3.21.1)\n",
            "Requirement already satisfied: typing-inspect<1,>=0.4.0 in /usr/local/lib/python3.10/dist-packages (from dataclasses-json<0.7,>=0.5.7->langchain==0.1.0) (0.9.0)\n",
            "Requirement already satisfied: jsonpointer>=1.9 in /usr/local/lib/python3.10/dist-packages (from jsonpatch<2.0,>=1.33->langchain==0.1.0) (2.4)\n",
            "Requirement already satisfied: anyio<5,>=3 in /usr/local/lib/python3.10/dist-packages (from langchain-core<0.2,>=0.1.7->langchain==0.1.0) (3.7.1)\n",
            "Requirement already satisfied: packaging<24.0,>=23.2 in /usr/local/lib/python3.10/dist-packages (from langchain-core<0.2,>=0.1.7->langchain==0.1.0) (23.2)\n",
            "Requirement already satisfied: annotated-types>=0.4.0 in /usr/local/lib/python3.10/dist-packages (from pydantic<3,>=1->langchain==0.1.0) (0.6.0)\n",
            "Requirement already satisfied: pydantic-core==2.16.3 in /usr/local/lib/python3.10/dist-packages (from pydantic<3,>=1->langchain==0.1.0) (2.16.3)\n",
            "Requirement already satisfied: typing-extensions>=4.6.1 in /usr/local/lib/python3.10/dist-packages (from pydantic<3,>=1->langchain==0.1.0) (4.10.0)\n",
            "Requirement already satisfied: charset-normalizer<4,>=2 in /usr/local/lib/python3.10/dist-packages (from requests<3,>=2->langchain==0.1.0) (3.3.2)\n",
            "Requirement already satisfied: idna<4,>=2.5 in /usr/local/lib/python3.10/dist-packages (from requests<3,>=2->langchain==0.1.0) (3.6)\n",
            "Requirement already satisfied: urllib3<3,>=1.21.1 in /usr/local/lib/python3.10/dist-packages (from requests<3,>=2->langchain==0.1.0) (2.0.7)\n",
            "Requirement already satisfied: certifi>=2017.4.17 in /usr/local/lib/python3.10/dist-packages (from requests<3,>=2->langchain==0.1.0) (2024.2.2)\n",
            "Requirement already satisfied: greenlet!=0.4.17 in /usr/local/lib/python3.10/dist-packages (from SQLAlchemy<3,>=1.4->langchain==0.1.0) (3.0.3)\n",
            "Requirement already satisfied: sniffio>=1.1 in /usr/local/lib/python3.10/dist-packages (from anyio<5,>=3->langchain-core<0.2,>=0.1.7->langchain==0.1.0) (1.3.1)\n",
            "Requirement already satisfied: exceptiongroup in /usr/local/lib/python3.10/dist-packages (from anyio<5,>=3->langchain-core<0.2,>=0.1.7->langchain==0.1.0) (1.2.0)\n",
            "Requirement already satisfied: mypy-extensions>=0.3.0 in /usr/local/lib/python3.10/dist-packages (from typing-inspect<1,>=0.4.0->dataclasses-json<0.7,>=0.5.7->langchain==0.1.0) (1.0.0)\n",
            "Requirement already satisfied: accelerate==0.25.0 in /usr/local/lib/python3.10/dist-packages (0.25.0)\n",
            "Requirement already satisfied: numpy>=1.17 in /usr/local/lib/python3.10/dist-packages (from accelerate==0.25.0) (1.25.2)\n",
            "Requirement already satisfied: packaging>=20.0 in /usr/local/lib/python3.10/dist-packages (from accelerate==0.25.0) (23.2)\n",
            "Requirement already satisfied: psutil in /usr/local/lib/python3.10/dist-packages (from accelerate==0.25.0) (5.9.5)\n",
            "Requirement already satisfied: pyyaml in /usr/local/lib/python3.10/dist-packages (from accelerate==0.25.0) (6.0.1)\n",
            "Requirement already satisfied: torch>=1.10.0 in /usr/local/lib/python3.10/dist-packages (from accelerate==0.25.0) (2.2.1+cu121)\n",
            "Requirement already satisfied: huggingface-hub in /usr/local/lib/python3.10/dist-packages (from accelerate==0.25.0) (0.20.3)\n",
            "Requirement already satisfied: safetensors>=0.3.1 in /usr/local/lib/python3.10/dist-packages (from accelerate==0.25.0) (0.4.2)\n",
            "Requirement already satisfied: filelock in /usr/local/lib/python3.10/dist-packages (from torch>=1.10.0->accelerate==0.25.0) (3.13.1)\n",
            "Requirement already satisfied: typing-extensions>=4.8.0 in /usr/local/lib/python3.10/dist-packages (from torch>=1.10.0->accelerate==0.25.0) (4.10.0)\n",
            "Requirement already satisfied: sympy in /usr/local/lib/python3.10/dist-packages (from torch>=1.10.0->accelerate==0.25.0) (1.12)\n",
            "Requirement already satisfied: networkx in /usr/local/lib/python3.10/dist-packages (from torch>=1.10.0->accelerate==0.25.0) (3.2.1)\n",
            "Requirement already satisfied: jinja2 in /usr/local/lib/python3.10/dist-packages (from torch>=1.10.0->accelerate==0.25.0) (3.1.3)\n",
            "Requirement already satisfied: fsspec in /usr/local/lib/python3.10/dist-packages (from torch>=1.10.0->accelerate==0.25.0) (2023.6.0)\n",
            "Requirement already satisfied: nvidia-cuda-nvrtc-cu12==12.1.105 in /usr/local/lib/python3.10/dist-packages (from torch>=1.10.0->accelerate==0.25.0) (12.1.105)\n",
            "Requirement already satisfied: nvidia-cuda-runtime-cu12==12.1.105 in /usr/local/lib/python3.10/dist-packages (from torch>=1.10.0->accelerate==0.25.0) (12.1.105)\n",
            "Requirement already satisfied: nvidia-cuda-cupti-cu12==12.1.105 in /usr/local/lib/python3.10/dist-packages (from torch>=1.10.0->accelerate==0.25.0) (12.1.105)\n",
            "Requirement already satisfied: nvidia-cudnn-cu12==8.9.2.26 in /usr/local/lib/python3.10/dist-packages (from torch>=1.10.0->accelerate==0.25.0) (8.9.2.26)\n",
            "Requirement already satisfied: nvidia-cublas-cu12==12.1.3.1 in /usr/local/lib/python3.10/dist-packages (from torch>=1.10.0->accelerate==0.25.0) (12.1.3.1)\n",
            "Requirement already satisfied: nvidia-cufft-cu12==11.0.2.54 in /usr/local/lib/python3.10/dist-packages (from torch>=1.10.0->accelerate==0.25.0) (11.0.2.54)\n",
            "Requirement already satisfied: nvidia-curand-cu12==10.3.2.106 in /usr/local/lib/python3.10/dist-packages (from torch>=1.10.0->accelerate==0.25.0) (10.3.2.106)\n",
            "Requirement already satisfied: nvidia-cusolver-cu12==11.4.5.107 in /usr/local/lib/python3.10/dist-packages (from torch>=1.10.0->accelerate==0.25.0) (11.4.5.107)\n",
            "Requirement already satisfied: nvidia-cusparse-cu12==12.1.0.106 in /usr/local/lib/python3.10/dist-packages (from torch>=1.10.0->accelerate==0.25.0) (12.1.0.106)\n",
            "Requirement already satisfied: nvidia-nccl-cu12==2.19.3 in /usr/local/lib/python3.10/dist-packages (from torch>=1.10.0->accelerate==0.25.0) (2.19.3)\n",
            "Requirement already satisfied: nvidia-nvtx-cu12==12.1.105 in /usr/local/lib/python3.10/dist-packages (from torch>=1.10.0->accelerate==0.25.0) (12.1.105)\n",
            "Requirement already satisfied: triton==2.2.0 in /usr/local/lib/python3.10/dist-packages (from torch>=1.10.0->accelerate==0.25.0) (2.2.0)\n",
            "Requirement already satisfied: nvidia-nvjitlink-cu12 in /usr/local/lib/python3.10/dist-packages (from nvidia-cusolver-cu12==11.4.5.107->torch>=1.10.0->accelerate==0.25.0) (12.4.99)\n",
            "Requirement already satisfied: requests in /usr/local/lib/python3.10/dist-packages (from huggingface-hub->accelerate==0.25.0) (2.31.0)\n",
            "Requirement already satisfied: tqdm>=4.42.1 in /usr/local/lib/python3.10/dist-packages (from huggingface-hub->accelerate==0.25.0) (4.66.2)\n",
            "Requirement already satisfied: MarkupSafe>=2.0 in /usr/local/lib/python3.10/dist-packages (from jinja2->torch>=1.10.0->accelerate==0.25.0) (2.1.5)\n",
            "Requirement already satisfied: charset-normalizer<4,>=2 in /usr/local/lib/python3.10/dist-packages (from requests->huggingface-hub->accelerate==0.25.0) (3.3.2)\n",
            "Requirement already satisfied: idna<4,>=2.5 in /usr/local/lib/python3.10/dist-packages (from requests->huggingface-hub->accelerate==0.25.0) (3.6)\n",
            "Requirement already satisfied: urllib3<3,>=1.21.1 in /usr/local/lib/python3.10/dist-packages (from requests->huggingface-hub->accelerate==0.25.0) (2.0.7)\n",
            "Requirement already satisfied: certifi>=2017.4.17 in /usr/local/lib/python3.10/dist-packages (from requests->huggingface-hub->accelerate==0.25.0) (2024.2.2)\n",
            "Requirement already satisfied: mpmath>=0.19 in /usr/local/lib/python3.10/dist-packages (from sympy->torch>=1.10.0->accelerate==0.25.0) (1.3.0)\n",
            "Requirement already satisfied: transformers==4.36.2 in /usr/local/lib/python3.10/dist-packages (4.36.2)\n",
            "Requirement already satisfied: filelock in /usr/local/lib/python3.10/dist-packages (from transformers==4.36.2) (3.13.1)\n",
            "Requirement already satisfied: huggingface-hub<1.0,>=0.19.3 in /usr/local/lib/python3.10/dist-packages (from transformers==4.36.2) (0.20.3)\n",
            "Requirement already satisfied: numpy>=1.17 in /usr/local/lib/python3.10/dist-packages (from transformers==4.36.2) (1.25.2)\n",
            "Requirement already satisfied: packaging>=20.0 in /usr/local/lib/python3.10/dist-packages (from transformers==4.36.2) (23.2)\n",
            "Requirement already satisfied: pyyaml>=5.1 in /usr/local/lib/python3.10/dist-packages (from transformers==4.36.2) (6.0.1)\n",
            "Requirement already satisfied: regex!=2019.12.17 in /usr/local/lib/python3.10/dist-packages (from transformers==4.36.2) (2023.12.25)\n",
            "Requirement already satisfied: requests in /usr/local/lib/python3.10/dist-packages (from transformers==4.36.2) (2.31.0)\n",
            "Requirement already satisfied: tokenizers<0.19,>=0.14 in /usr/local/lib/python3.10/dist-packages (from transformers==4.36.2) (0.15.2)\n",
            "Requirement already satisfied: safetensors>=0.3.1 in /usr/local/lib/python3.10/dist-packages (from transformers==4.36.2) (0.4.2)\n",
            "Requirement already satisfied: tqdm>=4.27 in /usr/local/lib/python3.10/dist-packages (from transformers==4.36.2) (4.66.2)\n",
            "Requirement already satisfied: fsspec>=2023.5.0 in /usr/local/lib/python3.10/dist-packages (from huggingface-hub<1.0,>=0.19.3->transformers==4.36.2) (2023.6.0)\n",
            "Requirement already satisfied: typing-extensions>=3.7.4.3 in /usr/local/lib/python3.10/dist-packages (from huggingface-hub<1.0,>=0.19.3->transformers==4.36.2) (4.10.0)\n",
            "Requirement already satisfied: charset-normalizer<4,>=2 in /usr/local/lib/python3.10/dist-packages (from requests->transformers==4.36.2) (3.3.2)\n",
            "Requirement already satisfied: idna<4,>=2.5 in /usr/local/lib/python3.10/dist-packages (from requests->transformers==4.36.2) (3.6)\n",
            "Requirement already satisfied: urllib3<3,>=1.21.1 in /usr/local/lib/python3.10/dist-packages (from requests->transformers==4.36.2) (2.0.7)\n",
            "Requirement already satisfied: certifi>=2017.4.17 in /usr/local/lib/python3.10/dist-packages (from requests->transformers==4.36.2) (2024.2.2)\n",
            "Requirement already satisfied: bitsandbytes==0.41.2 in /usr/local/lib/python3.10/dist-packages (0.41.2)\n",
            "Requirement already satisfied: sentence-transformers==2.2.2 in /usr/local/lib/python3.10/dist-packages (2.2.2)\n",
            "Requirement already satisfied: transformers<5.0.0,>=4.6.0 in /usr/local/lib/python3.10/dist-packages (from sentence-transformers==2.2.2) (4.36.2)\n",
            "Requirement already satisfied: tqdm in /usr/local/lib/python3.10/dist-packages (from sentence-transformers==2.2.2) (4.66.2)\n",
            "Requirement already satisfied: torch>=1.6.0 in /usr/local/lib/python3.10/dist-packages (from sentence-transformers==2.2.2) (2.2.1+cu121)\n",
            "Requirement already satisfied: torchvision in /usr/local/lib/python3.10/dist-packages (from sentence-transformers==2.2.2) (0.17.1+cu121)\n",
            "Requirement already satisfied: numpy in /usr/local/lib/python3.10/dist-packages (from sentence-transformers==2.2.2) (1.25.2)\n",
            "Requirement already satisfied: scikit-learn in /usr/local/lib/python3.10/dist-packages (from sentence-transformers==2.2.2) (1.2.2)\n",
            "Requirement already satisfied: scipy in /usr/local/lib/python3.10/dist-packages (from sentence-transformers==2.2.2) (1.11.4)\n",
            "Requirement already satisfied: nltk in /usr/local/lib/python3.10/dist-packages (from sentence-transformers==2.2.2) (3.8.1)\n",
            "Requirement already satisfied: sentencepiece in /usr/local/lib/python3.10/dist-packages (from sentence-transformers==2.2.2) (0.1.99)\n",
            "Requirement already satisfied: huggingface-hub>=0.4.0 in /usr/local/lib/python3.10/dist-packages (from sentence-transformers==2.2.2) (0.20.3)\n",
            "Requirement already satisfied: filelock in /usr/local/lib/python3.10/dist-packages (from huggingface-hub>=0.4.0->sentence-transformers==2.2.2) (3.13.1)\n",
            "Requirement already satisfied: fsspec>=2023.5.0 in /usr/local/lib/python3.10/dist-packages (from huggingface-hub>=0.4.0->sentence-transformers==2.2.2) (2023.6.0)\n",
            "Requirement already satisfied: requests in /usr/local/lib/python3.10/dist-packages (from huggingface-hub>=0.4.0->sentence-transformers==2.2.2) (2.31.0)\n",
            "Requirement already satisfied: pyyaml>=5.1 in /usr/local/lib/python3.10/dist-packages (from huggingface-hub>=0.4.0->sentence-transformers==2.2.2) (6.0.1)\n",
            "Requirement already satisfied: typing-extensions>=3.7.4.3 in /usr/local/lib/python3.10/dist-packages (from huggingface-hub>=0.4.0->sentence-transformers==2.2.2) (4.10.0)\n",
            "Requirement already satisfied: packaging>=20.9 in /usr/local/lib/python3.10/dist-packages (from huggingface-hub>=0.4.0->sentence-transformers==2.2.2) (23.2)\n",
            "Requirement already satisfied: sympy in /usr/local/lib/python3.10/dist-packages (from torch>=1.6.0->sentence-transformers==2.2.2) (1.12)\n",
            "Requirement already satisfied: networkx in /usr/local/lib/python3.10/dist-packages (from torch>=1.6.0->sentence-transformers==2.2.2) (3.2.1)\n",
            "Requirement already satisfied: jinja2 in /usr/local/lib/python3.10/dist-packages (from torch>=1.6.0->sentence-transformers==2.2.2) (3.1.3)\n",
            "Requirement already satisfied: nvidia-cuda-nvrtc-cu12==12.1.105 in /usr/local/lib/python3.10/dist-packages (from torch>=1.6.0->sentence-transformers==2.2.2) (12.1.105)\n",
            "Requirement already satisfied: nvidia-cuda-runtime-cu12==12.1.105 in /usr/local/lib/python3.10/dist-packages (from torch>=1.6.0->sentence-transformers==2.2.2) (12.1.105)\n",
            "Requirement already satisfied: nvidia-cuda-cupti-cu12==12.1.105 in /usr/local/lib/python3.10/dist-packages (from torch>=1.6.0->sentence-transformers==2.2.2) (12.1.105)\n",
            "Requirement already satisfied: nvidia-cudnn-cu12==8.9.2.26 in /usr/local/lib/python3.10/dist-packages (from torch>=1.6.0->sentence-transformers==2.2.2) (8.9.2.26)\n",
            "Requirement already satisfied: nvidia-cublas-cu12==12.1.3.1 in /usr/local/lib/python3.10/dist-packages (from torch>=1.6.0->sentence-transformers==2.2.2) (12.1.3.1)\n",
            "Requirement already satisfied: nvidia-cufft-cu12==11.0.2.54 in /usr/local/lib/python3.10/dist-packages (from torch>=1.6.0->sentence-transformers==2.2.2) (11.0.2.54)\n",
            "Requirement already satisfied: nvidia-curand-cu12==10.3.2.106 in /usr/local/lib/python3.10/dist-packages (from torch>=1.6.0->sentence-transformers==2.2.2) (10.3.2.106)\n",
            "Requirement already satisfied: nvidia-cusolver-cu12==11.4.5.107 in /usr/local/lib/python3.10/dist-packages (from torch>=1.6.0->sentence-transformers==2.2.2) (11.4.5.107)\n",
            "Requirement already satisfied: nvidia-cusparse-cu12==12.1.0.106 in /usr/local/lib/python3.10/dist-packages (from torch>=1.6.0->sentence-transformers==2.2.2) (12.1.0.106)\n",
            "Requirement already satisfied: nvidia-nccl-cu12==2.19.3 in /usr/local/lib/python3.10/dist-packages (from torch>=1.6.0->sentence-transformers==2.2.2) (2.19.3)\n",
            "Requirement already satisfied: nvidia-nvtx-cu12==12.1.105 in /usr/local/lib/python3.10/dist-packages (from torch>=1.6.0->sentence-transformers==2.2.2) (12.1.105)\n",
            "Requirement already satisfied: triton==2.2.0 in /usr/local/lib/python3.10/dist-packages (from torch>=1.6.0->sentence-transformers==2.2.2) (2.2.0)\n",
            "Requirement already satisfied: nvidia-nvjitlink-cu12 in /usr/local/lib/python3.10/dist-packages (from nvidia-cusolver-cu12==11.4.5.107->torch>=1.6.0->sentence-transformers==2.2.2) (12.4.99)\n",
            "Requirement already satisfied: regex!=2019.12.17 in /usr/local/lib/python3.10/dist-packages (from transformers<5.0.0,>=4.6.0->sentence-transformers==2.2.2) (2023.12.25)\n",
            "Requirement already satisfied: tokenizers<0.19,>=0.14 in /usr/local/lib/python3.10/dist-packages (from transformers<5.0.0,>=4.6.0->sentence-transformers==2.2.2) (0.15.2)\n",
            "Requirement already satisfied: safetensors>=0.3.1 in /usr/local/lib/python3.10/dist-packages (from transformers<5.0.0,>=4.6.0->sentence-transformers==2.2.2) (0.4.2)\n",
            "Requirement already satisfied: click in /usr/local/lib/python3.10/dist-packages (from nltk->sentence-transformers==2.2.2) (8.1.7)\n",
            "Requirement already satisfied: joblib in /usr/local/lib/python3.10/dist-packages (from nltk->sentence-transformers==2.2.2) (1.3.2)\n",
            "Requirement already satisfied: threadpoolctl>=2.0.0 in /usr/local/lib/python3.10/dist-packages (from scikit-learn->sentence-transformers==2.2.2) (3.3.0)\n",
            "Requirement already satisfied: pillow!=8.3.*,>=5.3.0 in /usr/local/lib/python3.10/dist-packages (from torchvision->sentence-transformers==2.2.2) (9.4.0)\n",
            "Requirement already satisfied: MarkupSafe>=2.0 in /usr/local/lib/python3.10/dist-packages (from jinja2->torch>=1.6.0->sentence-transformers==2.2.2) (2.1.5)\n",
            "Requirement already satisfied: charset-normalizer<4,>=2 in /usr/local/lib/python3.10/dist-packages (from requests->huggingface-hub>=0.4.0->sentence-transformers==2.2.2) (3.3.2)\n",
            "Requirement already satisfied: idna<4,>=2.5 in /usr/local/lib/python3.10/dist-packages (from requests->huggingface-hub>=0.4.0->sentence-transformers==2.2.2) (3.6)\n",
            "Requirement already satisfied: urllib3<3,>=1.21.1 in /usr/local/lib/python3.10/dist-packages (from requests->huggingface-hub>=0.4.0->sentence-transformers==2.2.2) (2.0.7)\n",
            "Requirement already satisfied: certifi>=2017.4.17 in /usr/local/lib/python3.10/dist-packages (from requests->huggingface-hub>=0.4.0->sentence-transformers==2.2.2) (2024.2.2)\n",
            "Requirement already satisfied: mpmath>=0.19 in /usr/local/lib/python3.10/dist-packages (from sympy->torch>=1.6.0->sentence-transformers==2.2.2) (1.3.0)\n",
            "Requirement already satisfied: InstructorEmbedding==1.0.1 in /usr/local/lib/python3.10/dist-packages (1.0.1)\n",
            "Requirement already satisfied: pymupdf==1.23.8 in /usr/local/lib/python3.10/dist-packages (1.23.8)\n",
            "Requirement already satisfied: PyMuPDFb==1.23.7 in /usr/local/lib/python3.10/dist-packages (from pymupdf==1.23.8) (1.23.7)\n",
            "Requirement already satisfied: faiss-gpu==1.7.2 in /usr/local/lib/python3.10/dist-packages (1.7.2)\n",
            "Requirement already satisfied: faiss-cpu==1.7.4 in /usr/local/lib/python3.10/dist-packages (1.7.4)\n"
          ]
        }
      ],
      "source": [
        "#langchain library\n",
        "!pip install langchain==0.1.0\n",
        "#LLM\n",
        "!pip install accelerate==0.25.0\n",
        "!pip install transformers==4.36.2\n",
        "!pip install bitsandbytes==0.41.2\n",
        "#Text Embedding\n",
        "!pip install sentence-transformers==2.2.2\n",
        "!pip install InstructorEmbedding==1.0.1\n",
        "#vectorstore\n",
        "!pip install pymupdf==1.23.8\n",
        "!pip install faiss-gpu==1.7.2\n",
        "!pip install faiss-cpu==1.7.4"
      ]
    },
    {
      "cell_type": "code",
      "execution_count": 3,
      "metadata": {
        "colab": {
          "base_uri": "https://localhost:8080/"
        },
        "id": "cCqk5lVYoNn7",
        "outputId": "ef25cebd-5268-4961-ca5c-4601e5fa9fc7"
      },
      "outputs": [
        {
          "data": {
            "text/plain": [
              "device(type='cuda')"
            ]
          },
          "execution_count": 3,
          "metadata": {},
          "output_type": "execute_result"
        }
      ],
      "source": [
        "import os\n",
        "import torch\n",
        "# Set GPU device\n",
        "# os.environ[\"CUDA_VISIBLE_DEVICES\"] = \"1\"\n",
        "\n",
        "# os.environ['http_proxy']  = 'http://192.41.170.23:3128'\n",
        "# os.environ['https_proxy'] = 'http://192.41.170.23:3128'\n",
        "\n",
        "device = torch.device('cuda' if torch.cuda.is_available() else 'cpu')\n",
        "device"
      ]
    },
    {
      "cell_type": "markdown",
      "metadata": {
        "id": "jv7LtmFloNn-"
      },
      "source": [
        "## 1. Prompt\n",
        "\n",
        "A set of instructions or input provided by a user to guide the model's response, helping it understand the context and generate relevant and coherent language-based output, such as answering questions, completing sentences, or engaging in a conversation."
      ]
    },
    {
      "cell_type": "code",
      "execution_count": 48,
      "metadata": {
        "colab": {
          "base_uri": "https://localhost:8080/"
        },
        "id": "E8gCxj5xoNn_",
        "outputId": "a9a055c7-f572-4610-b9ce-40d9f0441ae3"
      },
      "outputs": [
        {
          "data": {
            "text/plain": [
              "PromptTemplate(input_variables=['context', 'question'], template=\"I'm your friendly NLP chatbot named ChakyBot, here to assist Chaky and Gun with any questions they have about Natural Language Processing (NLP).\\n    If you're curious about how probability works in the context of NLP, feel free to ask any questions you may have.\\n    Whether it's about probabilistic models, language models, or any other related topic,\\n    I'm here to help break down complex concepts into easy-to-understand explanations.\\n    Just let me know what you're wondering about, and I'll do my best to guide you through it!\\n    \\n    Context: {context}\\n    Question: {question}\\n    Answer:\")"
            ]
          },
          "execution_count": 48,
          "metadata": {},
          "output_type": "execute_result"
        }
      ],
      "source": [
        "from langchain import PromptTemplate\n",
        "\n",
        "prompt_template = \"\"\"\n",
        "    I'm your friendly NLP chatbot named ChakyBot, here to assist Chaky and Gun with any questions they have about Natural Language Processing (NLP).\n",
        "    If you're curious about how probability works in the context of NLP, feel free to ask any questions you may have.\n",
        "    Whether it's about probabilistic models, language models, or any other related topic,\n",
        "    I'm here to help break down complex concepts into easy-to-understand explanations.\n",
        "    Just let me know what you're wondering about, and I'll do my best to guide you through it!\n",
        "\n",
        "    Context: {context}\n",
        "    Question: {question}\n",
        "    Answer:\n",
        "    \"\"\".strip()\n",
        "\n",
        "PROMPT = PromptTemplate.from_template(\n",
        "    template = prompt_template\n",
        ")\n",
        "\n",
        "PROMPT\n",
        "#using str.format\n",
        "#The placeholder is defined using curly brackets: {} {}"
      ]
    },
    {
      "cell_type": "code",
      "execution_count": null,
      "metadata": {
        "colab": {
          "base_uri": "https://localhost:8080/",
          "height": 105
        },
        "id": "yB-TuYcvoNoB",
        "outputId": "854b2293-d8e3-4db4-ae42-39c58259d577"
      },
      "outputs": [],
      "source": [
        "PROMPT.format(\n",
        "    context = \"AIT is an educational institute\",\n",
        "    question = \"What is AIT?\"\n",
        ")"
      ]
    },
    {
      "cell_type": "markdown",
      "metadata": {
        "id": "CW66ggRxoNoC"
      },
      "source": [
        "Note : [How to improve prompting (Zero-shot, Few-shot, Chain-of-Thought, etc.](https://github.com/chaklam-silpasuwanchai/Natural-Language-Processing/blob/main/Code/05%20-%20RAG/advance/cot-tot-prompting.ipynb)"
      ]
    },
    {
      "cell_type": "markdown",
      "metadata": {
        "id": "Cjow8bAroNoE"
      },
      "source": [
        "## 2. Retrieval\n",
        "\n",
        "1. `Document loaders` : Load documents from many different sources (HTML, PDF, code).\n",
        "2. `Document transformers` : One of the essential steps in document retrieval is breaking down a large document into smaller, relevant chunks to enhance the retrieval process.\n",
        "3. `Text embedding models` : Embeddings capture the semantic meaning of the text, allowing you to quickly and efficiently find other pieces of text that are similar.\n",
        "4. `Vector stores`: there has emerged a need for databases to support efficient storage and searching of these embeddings.\n",
        "5. `Retrievers` : Once the data is in the database, you still need to retrieve it."
      ]
    },
    {
      "cell_type": "markdown",
      "metadata": {
        "id": "N5gUyD6soNoF"
      },
      "source": [
        "### 2.1 Document Loaders\n",
        "Use document loaders to load data from a source as Document's. A Document is a piece of text and associated metadata. For example, there are document loaders for loading a simple .txt file, for loading the text contents of any web page, or even for loading a transcript of a YouTube video.\n",
        "\n",
        "[PDF Loader](https://python.langchain.com/docs/modules/data_connection/document_loaders/pdf)\n",
        "\n",
        "[Download Document](https://web.stanford.edu/~jurafsky/slp3/)"
      ]
    },
    {
      "cell_type": "code",
      "execution_count": 50,
      "metadata": {
        "id": "24heZW4svnHI"
      },
      "outputs": [],
      "source": [
        "file_path = '/content/drive/MyDrive/Colab Notebooks/NLP/A7'"
      ]
    },
    {
      "cell_type": "code",
      "execution_count": 51,
      "metadata": {
        "id": "p6IRI5hmoNoG"
      },
      "outputs": [],
      "source": [
        "from langchain.document_loaders import PyMuPDFLoader\n",
        "\n",
        "nlp_docs = f'{file_path}/data/pdf/Student-Handbook_August-2021.pdf'\n",
        "\n",
        "loader = PyMuPDFLoader(nlp_docs)\n",
        "documents = loader.load()"
      ]
    },
    {
      "cell_type": "code",
      "execution_count": 52,
      "metadata": {
        "id": "JEENF7JBoNoH"
      },
      "outputs": [],
      "source": [
        "# documents"
      ]
    },
    {
      "cell_type": "code",
      "execution_count": 53,
      "metadata": {
        "colab": {
          "base_uri": "https://localhost:8080/"
        },
        "id": "RIZF1g6roNoI",
        "outputId": "87732031-e8a0-4407-b5b8-0863f357511b"
      },
      "outputs": [
        {
          "data": {
            "text/plain": [
              "95"
            ]
          },
          "execution_count": 53,
          "metadata": {},
          "output_type": "execute_result"
        }
      ],
      "source": [
        "len(documents)"
      ]
    },
    {
      "cell_type": "code",
      "execution_count": 54,
      "metadata": {
        "colab": {
          "base_uri": "https://localhost:8080/"
        },
        "id": "QfpMJ4Y1oNoJ",
        "outputId": "7ebec90c-ce17-491a-d650-55a5996d7b0d"
      },
      "outputs": [
        {
          "data": {
            "text/plain": [
              "Document(page_content=' \\n \\n \\nPREFACE \\n \\nThe Student Handbook will help you cope with your academic and social life at AIT. \\nThere is no doubt that you will get much more if you are well informed on AIT \\nregulations, services and facilities. \\n \\nThis handbook is up-to-date at the time of publishing. However, changes in regulations \\nand procedures may be made before the next edition of the Student Handbook is \\npublished. Important changes will be announced via email. \\nBe well informed and make the best of your life at AIT.  \\n \\nOffice of Student Affairs  \\nAugust 2022\\n', metadata={'source': '/content/drive/MyDrive/Colab Notebooks/NLP/A7/data/pdf/Student-Handbook_August-2021.pdf', 'file_path': '/content/drive/MyDrive/Colab Notebooks/NLP/A7/data/pdf/Student-Handbook_August-2021.pdf', 'page': 1, 'total_pages': 95, 'format': 'PDF 1.6', 'title': '', 'author': '', 'subject': '', 'keywords': '', 'creator': 'RICOH MP C3004ex', 'producer': 'RICOH MP C3004ex', 'creationDate': \"D:20220811112929+08'00'\", 'modDate': \"D:20220811112021+07'00'\", 'trapped': ''})"
            ]
          },
          "execution_count": 54,
          "metadata": {},
          "output_type": "execute_result"
        }
      ],
      "source": [
        "documents[1]"
      ]
    },
    {
      "cell_type": "markdown",
      "metadata": {
        "id": "pOhVVwEzoNoK"
      },
      "source": [
        "### 2.2 Document Transformers\n",
        "\n",
        "This text splitter is the recommended one for generic text. It is parameterized by a list of characters. It tries to split on them in order until the chunks are small enough"
      ]
    },
    {
      "cell_type": "code",
      "execution_count": 55,
      "metadata": {
        "id": "rkbmGnsmoNoK"
      },
      "outputs": [],
      "source": [
        "from langchain.text_splitter import RecursiveCharacterTextSplitter\n",
        "\n",
        "text_splitter = RecursiveCharacterTextSplitter(\n",
        "    chunk_size = 700,\n",
        "    chunk_overlap = 100\n",
        ")\n",
        "\n",
        "doc = text_splitter.split_documents(documents)"
      ]
    },
    {
      "cell_type": "code",
      "execution_count": 56,
      "metadata": {
        "colab": {
          "base_uri": "https://localhost:8080/"
        },
        "id": "pANOXMXDoNoL",
        "outputId": "ab34d870-1de0-4ae1-8beb-35bdd650fd87"
      },
      "outputs": [
        {
          "data": {
            "text/plain": [
              "Document(page_content='TABLE OF CONTENTS \\n \\n \\nI. \\nIntroducing AIT \\n \\nII. \\nStudent Bill of Rights \\n \\nIII. \\nStudent Code of Conduct \\n \\nIV. \\nGuidance for New Students \\n \\nV. \\nStudent Welfare Unit and the AIT Career Center \\n \\nVI. \\nHarassment Policy \\n \\nVII. \\nSubstance Abuse Policy \\n \\nVIII. \\nEnvironment Policy \\n \\nIX. \\nStudent Organizations and Student Participation in Institute Governance \\n- Student Union \\n- Nationality Associations \\n- Student Participation in Institute Governance \\n \\nX. \\nCampus Facilities and Services \\n- Student Accommodation \\n- Visas \\n- Banking \\n- Dining \\n- Sports and Recreation \\n- Movies on Campus \\n- Religious Services \\n- Mails \\n- AIT Reception \\n- Office of Public Affairs (OPA)', metadata={'source': '/content/drive/MyDrive/Colab Notebooks/NLP/A7/data/pdf/Student-Handbook_August-2021.pdf', 'file_path': '/content/drive/MyDrive/Colab Notebooks/NLP/A7/data/pdf/Student-Handbook_August-2021.pdf', 'page': 2, 'total_pages': 95, 'format': 'PDF 1.6', 'title': '', 'author': '', 'subject': '', 'keywords': '', 'creator': 'RICOH MP C3004ex', 'producer': 'RICOH MP C3004ex', 'creationDate': \"D:20220811112929+08'00'\", 'modDate': \"D:20220811112021+07'00'\", 'trapped': ''})"
            ]
          },
          "execution_count": 56,
          "metadata": {},
          "output_type": "execute_result"
        }
      ],
      "source": [
        "doc[1]"
      ]
    },
    {
      "cell_type": "code",
      "execution_count": 57,
      "metadata": {
        "colab": {
          "base_uri": "https://localhost:8080/"
        },
        "id": "i5B5MCbMoNoL",
        "outputId": "e56f2162-dad5-485e-a61b-dbba62985420"
      },
      "outputs": [
        {
          "data": {
            "text/plain": [
              "367"
            ]
          },
          "execution_count": 57,
          "metadata": {},
          "output_type": "execute_result"
        }
      ],
      "source": [
        "len(doc)"
      ]
    },
    {
      "cell_type": "markdown",
      "metadata": {
        "id": "efwb_vHXoNoM"
      },
      "source": [
        "### 2.3 Text Embedding Models\n",
        "Embeddings create a vector representation of a piece of text. This is useful because it means we can think about text in the vector space, and do things like semantic search where we look for pieces of text that are most similar in the vector space.\n",
        "\n",
        "*Note* Instructor Model : [Huggingface](gingface.co/hkunlp/instructor-base) | [Paper](https://arxiv.org/abs/2212.09741)"
      ]
    },
    {
      "cell_type": "code",
      "execution_count": 58,
      "metadata": {
        "colab": {
          "base_uri": "https://localhost:8080/"
        },
        "id": "qoBPpADDoNoM",
        "outputId": "921a2d55-3171-4091-88dd-99da20282e63"
      },
      "outputs": [
        {
          "name": "stdout",
          "output_type": "stream",
          "text": [
            "load INSTRUCTOR_Transformer\n",
            "max_seq_length  512\n"
          ]
        }
      ],
      "source": [
        "import torch\n",
        "from langchain.embeddings import HuggingFaceInstructEmbeddings\n",
        "\n",
        "model_name = 'hkunlp/instructor-base'\n",
        "\n",
        "embedding_model = HuggingFaceInstructEmbeddings(\n",
        "    model_name = model_name,\n",
        "    model_kwargs = {\"device\" : device}\n",
        ")"
      ]
    },
    {
      "cell_type": "markdown",
      "metadata": {
        "id": "AMapsanQoNoN"
      },
      "source": [
        "### 2.4 Vector Stores\n",
        "\n",
        "One of the most common ways to store and search over unstructured data is to embed it and store the resulting embedding vectors, and then at query time to embed the unstructured query and retrieve the embedding vectors that are 'most similar' to the embedded query. A vector store takes care of storing embedded data and performing vector search for you."
      ]
    },
    {
      "cell_type": "code",
      "execution_count": 59,
      "metadata": {
        "id": "MurMaC62oNoN"
      },
      "outputs": [],
      "source": [
        "#locate vectorstore\n",
        "vector_path = '../vector-store'\n",
        "if not os.path.exists(vector_path):\n",
        "    os.makedirs(vector_path)\n",
        "    print('create path done')"
      ]
    },
    {
      "cell_type": "code",
      "execution_count": 60,
      "metadata": {
        "id": "yxPMI34-oNoO"
      },
      "outputs": [],
      "source": [
        "#save vector locally\n",
        "from langchain.vectorstores import FAISS\n",
        "\n",
        "vectordb = FAISS.from_documents(\n",
        "    documents = doc,\n",
        "    embedding = embedding_model\n",
        ")\n",
        "\n",
        "db_file_name = 'nlp_stanford'\n",
        "\n",
        "vectordb.save_local(\n",
        "    folder_path = os.path.join(vector_path, db_file_name),\n",
        "    index_name = 'nlp' #default index\n",
        ")"
      ]
    },
    {
      "cell_type": "markdown",
      "metadata": {
        "id": "mCk8oXp0oNoO"
      },
      "source": [
        "### 2.5 retrievers\n",
        "A retriever is an interface that returns documents given an unstructured query. It is more general than a vector store. A retriever does not need to be able to store documents, only to return (or retrieve) them. Vector stores can be used as the backbone of a retriever, but there are other types of retrievers as well."
      ]
    },
    {
      "cell_type": "code",
      "execution_count": 61,
      "metadata": {
        "id": "Sxv8yxFCoNoP"
      },
      "outputs": [],
      "source": [
        "#calling vector from local\n",
        "vector_path = '../vector-store'\n",
        "db_file_name = 'nlp_stanford'\n",
        "\n",
        "from langchain.vectorstores import FAISS\n",
        "\n",
        "vectordb = FAISS.load_local(\n",
        "    folder_path = os.path.join(vector_path, db_file_name),\n",
        "    embeddings = embedding_model,\n",
        "    index_name = 'nlp' #default index\n",
        ")"
      ]
    },
    {
      "cell_type": "code",
      "execution_count": 62,
      "metadata": {
        "id": "JeyBKcLooNoP"
      },
      "outputs": [],
      "source": [
        "#ready to use\n",
        "retriever = vectordb.as_retriever()"
      ]
    },
    {
      "cell_type": "markdown",
      "metadata": {
        "id": "63xf1w0yoNoQ"
      },
      "source": [
        "## 3. Memory\n",
        "\n",
        "One of the core utility classes underpinning most (if not all) memory modules is the ChatMessageHistory class. This is a super lightweight wrapper that provides convenience methods for saving HumanMessages, AIMessages, and then fetching them all.\n",
        "\n",
        "You may want to use this class directly if you are managing memory outside of a chain.\n"
      ]
    },
    {
      "cell_type": "code",
      "execution_count": 63,
      "metadata": {
        "colab": {
          "base_uri": "https://localhost:8080/"
        },
        "id": "a1duxOBUoNoR",
        "outputId": "578a27c1-eb50-4e06-ef6e-db90116e82f5"
      },
      "outputs": [
        {
          "data": {
            "text/plain": [
              "ChatMessageHistory(messages=[])"
            ]
          },
          "execution_count": 63,
          "metadata": {},
          "output_type": "execute_result"
        }
      ],
      "source": [
        "from langchain.memory import ChatMessageHistory\n",
        "\n",
        "history = ChatMessageHistory()\n",
        "history"
      ]
    },
    {
      "cell_type": "code",
      "execution_count": 64,
      "metadata": {
        "id": "-wQzAyhIoNoS"
      },
      "outputs": [],
      "source": [
        "history.add_user_message('hi')\n",
        "history.add_ai_message('Whats up?')\n",
        "history.add_user_message('How are you')\n",
        "history.add_ai_message('I\\'m quite good. How about you?')"
      ]
    },
    {
      "cell_type": "code",
      "execution_count": 65,
      "metadata": {
        "colab": {
          "base_uri": "https://localhost:8080/"
        },
        "id": "iauOykMXoNoS",
        "outputId": "5ef14a38-78f8-4aa4-d9cc-686f0ff4ca94"
      },
      "outputs": [
        {
          "data": {
            "text/plain": [
              "ChatMessageHistory(messages=[HumanMessage(content='hi'), AIMessage(content='Whats up?'), HumanMessage(content='How are you'), AIMessage(content=\"I'm quite good. How about you?\")])"
            ]
          },
          "execution_count": 65,
          "metadata": {},
          "output_type": "execute_result"
        }
      ],
      "source": [
        "history"
      ]
    },
    {
      "cell_type": "markdown",
      "metadata": {
        "id": "hyBpSTSuoNoS"
      },
      "source": [
        "### 3.1 Memory types\n",
        "\n",
        "There are many different types of memory. Each has their own parameters, their own return types, and is useful in different scenarios.\n",
        "- Converstaion Buffer\n",
        "- Converstaion Buffer Window"
      ]
    },
    {
      "cell_type": "markdown",
      "metadata": {
        "id": "y32735BGoNoU"
      },
      "source": [
        "What variables get returned from memory\n",
        "\n",
        "Before going into the chain, various variables are read from memory. These have specific names which need to align with the variables the chain expects. You can see what these variables are by calling memory.load_memory_variables({}). Note that the empty dictionary that we pass in is just a placeholder for real variables. If the memory type you are using is dependent upon the input variables, you may need to pass some in."
      ]
    },
    {
      "cell_type": "markdown",
      "metadata": {
        "id": "rHhtfNhooNoU"
      },
      "source": [
        "In this case, you can see that load_memory_variables returns a single key, history. This means that your chain (and likely your prompt) should expect an input named history. You can usually control this variable through parameters on the memory class. For example, if you want the memory variables to be returned in the key chat_history you can do:"
      ]
    },
    {
      "cell_type": "markdown",
      "metadata": {
        "id": "0_yC4tQeoNoU"
      },
      "source": [
        "#### Converstaion Buffer\n",
        "This memory allows for storing messages and then extracts the messages in a variable."
      ]
    },
    {
      "cell_type": "code",
      "execution_count": 66,
      "metadata": {
        "colab": {
          "base_uri": "https://localhost:8080/"
        },
        "id": "_OUYZpb4oNoU",
        "outputId": "e3a6c54d-cb04-493a-91fb-72d80b914d7e"
      },
      "outputs": [
        {
          "data": {
            "text/plain": [
              "{'history': \"Human: hi\\nAI: What's up?\\nHuman: How are you?\\nAI: I'm quite good. How about you?\"}"
            ]
          },
          "execution_count": 66,
          "metadata": {},
          "output_type": "execute_result"
        }
      ],
      "source": [
        "from langchain.memory import ConversationBufferMemory\n",
        "\n",
        "memory = ConversationBufferMemory()\n",
        "memory.save_context({'input':'hi'}, {'output':'What\\'s up?'})\n",
        "memory.save_context({\"input\":'How are you?'},{'output': 'I\\'m quite good. How about you?'})\n",
        "memory.load_memory_variables({})"
      ]
    },
    {
      "cell_type": "code",
      "execution_count": 67,
      "metadata": {
        "colab": {
          "base_uri": "https://localhost:8080/"
        },
        "id": "SFcmPYNRoNoV",
        "outputId": "3d7c6789-ff39-47b3-b71b-aeaec9d239e4"
      },
      "outputs": [
        {
          "data": {
            "text/plain": [
              "{'history': [HumanMessage(content='hi'),\n",
              "  AIMessage(content=\"What's up?\"),\n",
              "  HumanMessage(content='How are you?'),\n",
              "  AIMessage(content=\"I'm quite good. How about you?\")]}"
            ]
          },
          "execution_count": 67,
          "metadata": {},
          "output_type": "execute_result"
        }
      ],
      "source": [
        "from langchain.memory import ConversationBufferMemory\n",
        "\n",
        "memory = ConversationBufferMemory(return_messages = True)\n",
        "memory.save_context({'input':'hi'}, {'output':'What\\'s up?'})\n",
        "memory.save_context({\"input\":'How are you?'},{'output': 'I\\'m quite good. How about you?'})\n",
        "memory.load_memory_variables({})"
      ]
    },
    {
      "cell_type": "markdown",
      "metadata": {
        "id": "q9P8SaQOoNoW"
      },
      "source": [
        "#### Conversation Buffer Window\n",
        "- it keeps a list of the interactions of the conversation over time.\n",
        "- it only uses the last K interactions.\n",
        "- it can be useful for keeping a sliding window of the most recent interactions, so the buffer does not get too large."
      ]
    },
    {
      "cell_type": "code",
      "execution_count": 68,
      "metadata": {
        "colab": {
          "base_uri": "https://localhost:8080/"
        },
        "id": "IRAjYB7_oNoW",
        "outputId": "cafc53e7-1bbe-4421-8aba-1c8c9b4d0376"
      },
      "outputs": [
        {
          "data": {
            "text/plain": [
              "{'history': \"Human: How are you?\\nAI: I'm quite good. How about you?\"}"
            ]
          },
          "execution_count": 68,
          "metadata": {},
          "output_type": "execute_result"
        }
      ],
      "source": [
        "from langchain.memory import ConversationBufferWindowMemory\n",
        "\n",
        "memory = ConversationBufferWindowMemory(k=1)\n",
        "memory.save_context({'input':'hi'}, {'output':'What\\'s up?'})\n",
        "memory.save_context({\"input\":'How are you?'},{'output': 'I\\'m quite good. How about you?'})\n",
        "memory.load_memory_variables({})"
      ]
    },
    {
      "cell_type": "markdown",
      "metadata": {
        "id": "q8wefh1noNos"
      },
      "source": [
        "## 4. Chain\n",
        "\n",
        "Using an LLM in isolation is fine for simple applications, but more complex applications require chaining LLMs - either with each other or with other components.\n",
        "\n",
        "An `LLMChain` is a simple chain that adds some functionality around language models.\n",
        "- it consists of a `PromptTemplate` and a `LM` (either an LLM or chat model).\n",
        "- it formats the prompt template using the input key values provided (and also memory key values, if available),\n",
        "- it passes the formatted string to LLM and returns the LLM output.\n",
        "\n",
        "Note : [Download Fastchat Model Here](https://huggingface.co/lmsys/fastchat-t5-3b-v1.0)"
      ]
    },
    {
      "cell_type": "code",
      "execution_count": 69,
      "metadata": {
        "colab": {
          "base_uri": "https://localhost:8080/",
          "height": 35
        },
        "id": "6NeWciplksCp",
        "outputId": "c9d0be93-6b6d-4283-e2b8-44964eb1db5c"
      },
      "outputs": [
        {
          "data": {
            "application/vnd.google.colaboratory.intrinsic+json": {
              "type": "string"
            },
            "text/plain": [
              "'/content/drive/MyDrive/Colab Notebooks/NLP/A7'"
            ]
          },
          "execution_count": 69,
          "metadata": {},
          "output_type": "execute_result"
        }
      ],
      "source": [
        "file_path"
      ]
    },
    {
      "cell_type": "code",
      "execution_count": 70,
      "metadata": {
        "id": "Wcnt9A2BoNos"
      },
      "outputs": [],
      "source": [
        "# %cd /content/drive/MyDrive/Colab Notebooks/NLP/A7/model\n",
        "# !git clone https://huggingface.co/lmsys/fastchat-t5-3b-v1.0"
      ]
    },
    {
      "cell_type": "code",
      "execution_count": 71,
      "metadata": {
        "colab": {
          "base_uri": "https://localhost:8080/"
        },
        "id": "CZAOo-GloNot",
        "outputId": "644d1f69-f186-4f42-a02d-72027a8f8a15"
      },
      "outputs": [
        {
          "name": "stderr",
          "output_type": "stream",
          "text": [
            "Special tokens have been added in the vocabulary, make sure the associated word embeddings are fine-tuned or trained.\n",
            "Special tokens have been added in the vocabulary, make sure the associated word embeddings are fine-tuned or trained.\n"
          ]
        }
      ],
      "source": [
        "from transformers import AutoTokenizer, pipeline, AutoModelForSeq2SeqLM\n",
        "from transformers import BitsAndBytesConfig\n",
        "from langchain import HuggingFacePipeline\n",
        "import torch\n",
        "\n",
        "model_id = f'{file_path}/model/fastchat-t5-3b-v1.0/'\n",
        "\n",
        "tokenizer = AutoTokenizer.from_pretrained(\n",
        "    model_id)\n",
        "\n",
        "tokenizer.pad_token_id = tokenizer.eos_token_id\n",
        "\n",
        "bitsandbyte_config = BitsAndBytesConfig(\n",
        "    load_in_4bit = True,\n",
        "    bnb_4bit_quant_type = \"nf4\",\n",
        "    bnb_4bit_compute_dtype = torch.float16,\n",
        "    bnb_4bit_use_double_quant = True\n",
        ")\n",
        "\n",
        "model = AutoModelForSeq2SeqLM.from_pretrained(\n",
        "    model_id,\n",
        "    quantization_config = bitsandbyte_config, #caution Nvidia\n",
        "    device_map = 'auto',\n",
        "    load_in_8bit = True\n",
        ")\n",
        "\n",
        "pipe = pipeline(\n",
        "    task=\"text2text-generation\",\n",
        "    model=model,\n",
        "    tokenizer=tokenizer,\n",
        "    max_new_tokens = 256,\n",
        "    model_kwargs = {\n",
        "        \"temperature\" : 0,\n",
        "        \"repetition_penalty\": 1.5\n",
        "    }\n",
        ")\n",
        "\n",
        "llm = HuggingFacePipeline(pipeline = pipe)"
      ]
    },
    {
      "cell_type": "markdown",
      "metadata": {
        "id": "u7txR4DtoNot"
      },
      "source": [
        "### [Class ConversationalRetrievalChain](https://api.python.langchain.com/en/latest/_modules/langchain/chains/conversational_retrieval/base.html#ConversationalRetrievalChain)\n",
        "\n",
        "- `retriever` : Retriever to use to fetch documents.\n",
        "\n",
        "- `combine_docs_chain` : The chain used to combine any retrieved documents.\n",
        "\n",
        "- `question_generator`: The chain used to generate a new question for the sake of retrieval. This chain will take in the current question (with variable question) and any chat history (with variable chat_history) and will produce a new standalone question to be used later on.\n",
        "\n",
        "- `return_source_documents` : Return the retrieved source documents as part of the final result.\n",
        "\n",
        "- `get_chat_history` : An optional function to get a string of the chat history. If None is provided, will use a default.\n",
        "\n",
        "- `return_generated_question` : Return the generated question as part of the final result.\n",
        "\n",
        "- `response_if_no_docs_found` : If specified, the chain will return a fixed response if no docs are found for the question.\n"
      ]
    },
    {
      "cell_type": "markdown",
      "metadata": {
        "id": "9509qUIIoNou"
      },
      "source": [
        "`question_generator`"
      ]
    },
    {
      "cell_type": "code",
      "execution_count": 72,
      "metadata": {
        "id": "LVz-Dc31oNou"
      },
      "outputs": [],
      "source": [
        "from langchain.chains import LLMChain\n",
        "from langchain.chains.conversational_retrieval.prompts import CONDENSE_QUESTION_PROMPT\n",
        "from langchain.memory import ConversationBufferWindowMemory\n",
        "from langchain.chains.question_answering import load_qa_chain\n",
        "from langchain.chains import ConversationalRetrievalChain"
      ]
    },
    {
      "cell_type": "code",
      "execution_count": 73,
      "metadata": {
        "colab": {
          "base_uri": "https://localhost:8080/"
        },
        "id": "RrQtR6ePoNov",
        "outputId": "ef9bc818-0a9c-4348-a5b7-875706e98f81"
      },
      "outputs": [
        {
          "data": {
            "text/plain": [
              "PromptTemplate(input_variables=['chat_history', 'question'], template='Given the following conversation and a follow up question, rephrase the follow up question to be a standalone question, in its original language.\\n\\nChat History:\\n{chat_history}\\nFollow Up Input: {question}\\nStandalone question:')"
            ]
          },
          "execution_count": 73,
          "metadata": {},
          "output_type": "execute_result"
        }
      ],
      "source": [
        "CONDENSE_QUESTION_PROMPT"
      ]
    },
    {
      "cell_type": "code",
      "execution_count": 74,
      "metadata": {
        "id": "nDUeNyaLoNov"
      },
      "outputs": [],
      "source": [
        "question_generator = LLMChain(\n",
        "    llm = llm,\n",
        "    prompt = CONDENSE_QUESTION_PROMPT,\n",
        "    verbose = True\n",
        ")"
      ]
    },
    {
      "cell_type": "code",
      "execution_count": 75,
      "metadata": {
        "colab": {
          "base_uri": "https://localhost:8080/"
        },
        "id": "0paQWHmYoNow",
        "outputId": "39b79a07-20f8-465b-f1cf-f91506103645"
      },
      "outputs": [
        {
          "name": "stdout",
          "output_type": "stream",
          "text": [
            "\n",
            "\n",
            "\u001b[1m> Entering new LLMChain chain...\u001b[0m\n",
            "Prompt after formatting:\n",
            "\u001b[32;1m\u001b[1;3mGiven the following conversation and a follow up question, rephrase the follow up question to be a standalone question, in its original language.\n",
            "\n",
            "Chat History:\n",
            "Human:What is Machine Learning\n",
            "AI:\n",
            "Human:What is Deep Learning\n",
            "AI:\n",
            "Follow Up Input: Comparing both of them\n",
            "Standalone question:\u001b[0m\n",
            "\n",
            "\u001b[1m> Finished chain.\u001b[0m\n"
          ]
        },
        {
          "data": {
            "text/plain": [
              "{'chat_history': 'Human:What is Machine Learning\\nAI:\\nHuman:What is Deep Learning\\nAI:',\n",
              " 'question': 'Comparing both of them',\n",
              " 'text': '<pad> What  is  the  difference  between  Machine  Learning  and  Deep  Learning  AI?\\n'}"
            ]
          },
          "execution_count": 75,
          "metadata": {},
          "output_type": "execute_result"
        }
      ],
      "source": [
        "query = 'Comparing both of them'\n",
        "chat_history = \"Human:What is Machine Learning\\nAI:\\nHuman:What is Deep Learning\\nAI:\"\n",
        "\n",
        "question_generator({'chat_history' : chat_history, \"question\" : query})"
      ]
    },
    {
      "cell_type": "markdown",
      "metadata": {
        "id": "jy7Bq8tMoNow"
      },
      "source": [
        "`combine_docs_chain`"
      ]
    },
    {
      "cell_type": "code",
      "execution_count": 76,
      "metadata": {
        "colab": {
          "base_uri": "https://localhost:8080/"
        },
        "id": "EIrhCrIFoNow",
        "outputId": "2d0c3439-aba7-451d-edaf-954bf8360959"
      },
      "outputs": [
        {
          "data": {
            "text/plain": [
              "StuffDocumentsChain(verbose=True, llm_chain=LLMChain(verbose=True, prompt=PromptTemplate(input_variables=['context', 'question'], template=\"I'm your friendly NLP chatbot named ChakyBot, here to assist Chaky and Gun with any questions they have about Natural Language Processing (NLP).\\n    If you're curious about how probability works in the context of NLP, feel free to ask any questions you may have.\\n    Whether it's about probabilistic models, language models, or any other related topic,\\n    I'm here to help break down complex concepts into easy-to-understand explanations.\\n    Just let me know what you're wondering about, and I'll do my best to guide you through it!\\n    \\n    Context: {context}\\n    Question: {question}\\n    Answer:\"), llm=HuggingFacePipeline(pipeline=<transformers.pipelines.text2text_generation.Text2TextGenerationPipeline object at 0x7aacd0d04c10>)), document_variable_name='context')"
            ]
          },
          "execution_count": 76,
          "metadata": {},
          "output_type": "execute_result"
        }
      ],
      "source": [
        "doc_chain = load_qa_chain(\n",
        "    llm = llm,\n",
        "    chain_type = 'stuff',\n",
        "    prompt = PROMPT,\n",
        "    verbose = True\n",
        ")\n",
        "doc_chain"
      ]
    },
    {
      "cell_type": "code",
      "execution_count": 77,
      "metadata": {
        "colab": {
          "base_uri": "https://localhost:8080/"
        },
        "id": "BEsa650foNox",
        "outputId": "ca05cfc0-d7ff-4012-bcc6-d3481571889c",
        "scrolled": true
      },
      "outputs": [
        {
          "name": "stdout",
          "output_type": "stream",
          "text": [
            "\n",
            "\n",
            "\u001b[1m> Entering new StuffDocumentsChain chain...\u001b[0m\n",
            "\n",
            "\n",
            "\u001b[1m> Entering new LLMChain chain...\u001b[0m\n",
            "Prompt after formatting:\n",
            "\u001b[32;1m\u001b[1;3mI'm your friendly NLP chatbot named ChakyBot, here to assist Chaky and Gun with any questions they have about Natural Language Processing (NLP).\n",
            "    If you're curious about how probability works in the context of NLP, feel free to ask any questions you may have.\n",
            "    Whether it's about probabilistic models, language models, or any other related topic,\n",
            "    I'm here to help break down complex concepts into easy-to-understand explanations.\n",
            "    Just let me know what you're wondering about, and I'll do my best to guide you through it!\n",
            "    \n",
            "    Context: a self-contained international community with a cosmopolitan approach to living and \n",
            "learning. \n",
            " \n",
            "Since 1959, AIT has carried out its mission “to develop highly qualified and committed \n",
            "professionals who play a leading role in the region’s sustainable development and its \n",
            "integration into the global economy” by supporting technological change and \n",
            "sustainable development through higher learning, research, capacity building and \n",
            "outreach. \n",
            " \n",
            "AIT’s renowned degree programs are administered by its School of Engineering and \n",
            "Technology; School of Environment, Resources and Development; and School of \n",
            "Management. Students benefit from challenging academic programs and exciting\n",
            "\n",
            "I. INTRODUCING AIT \n",
            " \n",
            " \n",
            "The Asian Institute of Technology (AIT) is a leading international higher learning \n",
            "institute of engineering and technology, environment, resources and development, and \n",
            "management. \n",
            " \n",
            "AIT offers the opportunity to study at an advanced international level at an Asian \n",
            "institution with a strong reputation for applied research. Many progressive \n",
            "developments in the application of engineering, technology, management, and \n",
            "sustainable development have originated at AIT. \n",
            " \n",
            "At its beautiful main campus located just north of Bangkok, Thailand, AIT operates as \n",
            "a self-contained international community with a cosmopolitan approach to living and \n",
            "learning.\n",
            "\n",
            "(OSA). \n",
            "● \n",
            "In accordance with the policies of making  AIT at  the forefront  of \n",
            "environmental protection and campus safety, the following traffic and\n",
            "\n",
            "AIT’s main campus offers fast and easy access to Bangkok, a city at the crossroads of \n",
            "East, Southeast and South Asia. AIT has also established a key learning center in \n",
            "Vietnam. \n",
            " \n",
            "With friends all over the globe, a strong history of academic excellence, and an \n",
            "enduring reputation for responding to emerging regional and global challenges such as \n",
            "climate change and sustainability, AIT is advancing new understanding and applying \n",
            "relevant technological solutions across Asia through its knowledge hub in Thailand. \n",
            " \n",
            "AIT Quick Facts \n",
            "Students: 1,200 + from 40+ countries \n",
            "Faculty: 81 internationally recruited Faculty from 19 countries & 134 Adjunct faculty\n",
            "    Question: What is AIT?\n",
            "    Answer:\u001b[0m\n",
            "\n",
            "\u001b[1m> Finished chain.\u001b[0m\n",
            "\n",
            "\u001b[1m> Finished chain.\u001b[0m\n"
          ]
        },
        {
          "data": {
            "text/plain": [
              "{'input_documents': [Document(page_content='a self-contained international community with a cosmopolitan approach to living and \\nlearning. \\n \\nSince 1959, AIT has carried out its mission “to develop highly qualified and committed \\nprofessionals who play a leading role in the region’s sustainable development and its \\nintegration into the global economy” by supporting technological change and \\nsustainable development through higher learning, research, capacity building and \\noutreach. \\n \\nAIT’s renowned degree programs are administered by its School of Engineering and \\nTechnology; School of Environment, Resources and Development; and School of \\nManagement. Students benefit from challenging academic programs and exciting', metadata={'source': '/content/drive/MyDrive/Colab Notebooks/NLP/A7/data/pdf/Student-Handbook_August-2021.pdf', 'file_path': '/content/drive/MyDrive/Colab Notebooks/NLP/A7/data/pdf/Student-Handbook_August-2021.pdf', 'page': 3, 'total_pages': 95, 'format': 'PDF 1.6', 'title': '', 'author': '', 'subject': '', 'keywords': '', 'creator': 'RICOH MP C3004ex', 'producer': 'RICOH MP C3004ex', 'creationDate': \"D:20220811112929+08'00'\", 'modDate': \"D:20220811112021+07'00'\", 'trapped': ''}),\n",
              "  Document(page_content='I. INTRODUCING AIT \\n \\n \\nThe Asian Institute of Technology (AIT) is a leading international higher learning \\ninstitute of engineering and technology, environment, resources and development, and \\nmanagement. \\n \\nAIT offers the opportunity to study at an advanced international level at an Asian \\ninstitution with a strong reputation for applied research. Many progressive \\ndevelopments in the application of engineering, technology, management, and \\nsustainable development have originated at AIT. \\n \\nAt its beautiful main campus located just north of Bangkok, Thailand, AIT operates as \\na self-contained international community with a cosmopolitan approach to living and \\nlearning.', metadata={'source': '/content/drive/MyDrive/Colab Notebooks/NLP/A7/data/pdf/Student-Handbook_August-2021.pdf', 'file_path': '/content/drive/MyDrive/Colab Notebooks/NLP/A7/data/pdf/Student-Handbook_August-2021.pdf', 'page': 3, 'total_pages': 95, 'format': 'PDF 1.6', 'title': '', 'author': '', 'subject': '', 'keywords': '', 'creator': 'RICOH MP C3004ex', 'producer': 'RICOH MP C3004ex', 'creationDate': \"D:20220811112929+08'00'\", 'modDate': \"D:20220811112021+07'00'\", 'trapped': ''}),\n",
              "  Document(page_content='(OSA). \\n● \\nIn accordance with the policies of making  AIT at  the forefront  of \\nenvironmental protection and campus safety, the following traffic and', metadata={'source': '/content/drive/MyDrive/Colab Notebooks/NLP/A7/data/pdf/Student-Handbook_August-2021.pdf', 'file_path': '/content/drive/MyDrive/Colab Notebooks/NLP/A7/data/pdf/Student-Handbook_August-2021.pdf', 'page': 82, 'total_pages': 95, 'format': 'PDF 1.6', 'title': '', 'author': '', 'subject': '', 'keywords': '', 'creator': 'RICOH MP C3004ex', 'producer': 'RICOH MP C3004ex', 'creationDate': \"D:20220811112929+08'00'\", 'modDate': \"D:20220811112021+07'00'\", 'trapped': ''}),\n",
              "  Document(page_content='AIT’s main campus offers fast and easy access to Bangkok, a city at the crossroads of \\nEast, Southeast and South Asia. AIT has also established a key learning center in \\nVietnam. \\n \\nWith friends all over the globe, a strong history of academic excellence, and an \\nenduring reputation for responding to emerging regional and global challenges such as \\nclimate change and sustainability, AIT is advancing new understanding and applying \\nrelevant technological solutions across Asia through its knowledge hub in Thailand. \\n \\nAIT Quick Facts \\nStudents: 1,200 + from 40+ countries \\nFaculty: 81 internationally recruited Faculty from 19 countries & 134 Adjunct faculty', metadata={'source': '/content/drive/MyDrive/Colab Notebooks/NLP/A7/data/pdf/Student-Handbook_August-2021.pdf', 'file_path': '/content/drive/MyDrive/Colab Notebooks/NLP/A7/data/pdf/Student-Handbook_August-2021.pdf', 'page': 3, 'total_pages': 95, 'format': 'PDF 1.6', 'title': '', 'author': '', 'subject': '', 'keywords': '', 'creator': 'RICOH MP C3004ex', 'producer': 'RICOH MP C3004ex', 'creationDate': \"D:20220811112929+08'00'\", 'modDate': \"D:20220811112021+07'00'\", 'trapped': ''})],\n",
              " 'question': 'What is AIT?',\n",
              " 'output_text': '<pad>  The  Asian  Institute  of  Technology  (AIT)  is  a  leading  international  higher  learning  institute  of  engineering  and  technology,  environment,  resources  and  development,  and  management.  It  offers  the  opportunity  to  study  at  an  advanced  international  level  at  an  Asian  institution  with  a  strong  reputation  for  applied  research.  AIT  operates  as  a  self-contained  international  community  with  a  cosmopolitan  approach  to  living  and  learning.\\n'}"
            ]
          },
          "execution_count": 77,
          "metadata": {},
          "output_type": "execute_result"
        }
      ],
      "source": [
        "query = \"What is AIT?\"\n",
        "input_document = retriever.get_relevant_documents(query)\n",
        "\n",
        "doc_chain({'input_documents':input_document, 'question':query})"
      ]
    },
    {
      "cell_type": "code",
      "execution_count": 78,
      "metadata": {
        "colab": {
          "base_uri": "https://localhost:8080/"
        },
        "id": "28p-dfQCoNox",
        "outputId": "c9337578-b02a-4840-83c8-da517a62b59c"
      },
      "outputs": [
        {
          "data": {
            "text/plain": [
              "ConversationalRetrievalChain(memory=ConversationBufferWindowMemory(output_key='answer', return_messages=True, memory_key='chat_history', k=3), verbose=True, combine_docs_chain=StuffDocumentsChain(verbose=True, llm_chain=LLMChain(verbose=True, prompt=PromptTemplate(input_variables=['context', 'question'], template=\"I'm your friendly NLP chatbot named ChakyBot, here to assist Chaky and Gun with any questions they have about Natural Language Processing (NLP).\\n    If you're curious about how probability works in the context of NLP, feel free to ask any questions you may have.\\n    Whether it's about probabilistic models, language models, or any other related topic,\\n    I'm here to help break down complex concepts into easy-to-understand explanations.\\n    Just let me know what you're wondering about, and I'll do my best to guide you through it!\\n    \\n    Context: {context}\\n    Question: {question}\\n    Answer:\"), llm=HuggingFacePipeline(pipeline=<transformers.pipelines.text2text_generation.Text2TextGenerationPipeline object at 0x7aacd0d04c10>)), document_variable_name='context'), question_generator=LLMChain(verbose=True, prompt=PromptTemplate(input_variables=['chat_history', 'question'], template='Given the following conversation and a follow up question, rephrase the follow up question to be a standalone question, in its original language.\\n\\nChat History:\\n{chat_history}\\nFollow Up Input: {question}\\nStandalone question:'), llm=HuggingFacePipeline(pipeline=<transformers.pipelines.text2text_generation.Text2TextGenerationPipeline object at 0x7aacd0d04c10>)), return_source_documents=True, get_chat_history=<function <lambda> at 0x7aac7bd6d870>, retriever=VectorStoreRetriever(tags=['FAISS', 'HuggingFaceInstructEmbeddings'], vectorstore=<langchain_community.vectorstores.faiss.FAISS object at 0x7aacd0c75d80>))"
            ]
          },
          "execution_count": 78,
          "metadata": {},
          "output_type": "execute_result"
        }
      ],
      "source": [
        "memory = ConversationBufferWindowMemory(\n",
        "    k=3,\n",
        "    memory_key = \"chat_history\",\n",
        "    return_messages = True,\n",
        "    output_key = 'answer'\n",
        ")\n",
        "\n",
        "chain = ConversationalRetrievalChain(\n",
        "    retriever=retriever,\n",
        "    question_generator=question_generator,\n",
        "    combine_docs_chain=doc_chain,\n",
        "    return_source_documents=True,\n",
        "    memory=memory,\n",
        "    verbose=True,\n",
        "    get_chat_history=lambda h : h\n",
        ")\n",
        "chain"
      ]
    },
    {
      "cell_type": "markdown",
      "metadata": {
        "id": "Vpa3bkYdoNoy"
      },
      "source": [
        "## 5. Chatbot"
      ]
    },
    {
      "cell_type": "code",
      "execution_count": 79,
      "metadata": {
        "colab": {
          "base_uri": "https://localhost:8080/"
        },
        "id": "0NB228VQoNoz",
        "outputId": "040baf23-5d9b-41ca-c68b-2d906b5aa8c4"
      },
      "outputs": [
        {
          "name": "stdout",
          "output_type": "stream",
          "text": [
            "\n",
            "\n",
            "\u001b[1m> Entering new ConversationalRetrievalChain chain...\u001b[0m\n",
            "\n",
            "\n",
            "\u001b[1m> Entering new StuffDocumentsChain chain...\u001b[0m\n",
            "\n",
            "\n",
            "\u001b[1m> Entering new LLMChain chain...\u001b[0m\n",
            "Prompt after formatting:\n",
            "\u001b[32;1m\u001b[1;3mI'm your friendly NLP chatbot named ChakyBot, here to assist Chaky and Gun with any questions they have about Natural Language Processing (NLP).\n",
            "    If you're curious about how probability works in the context of NLP, feel free to ask any questions you may have.\n",
            "    Whether it's about probabilistic models, language models, or any other related topic,\n",
            "    I'm here to help break down complex concepts into easy-to-understand explanations.\n",
            "    Just let me know what you're wondering about, and I'll do my best to guide you through it!\n",
            "    \n",
            "    Context: requirements made under the authority of this policy. \n",
            "5. In discharging his/her responsibility to implement this Policy, the President may \n",
            "be assisted by the Campus Environment and Development Committee. \n",
            "6. The Institute Master Plan is now four decades old, and no longer a relevant \n",
            "guide for the development of the campus. A task force has been appointed by \n",
            "the President to update the plan, providing a framework for enabling AIT to \n",
            "develop its campus as a model of good environmental practice and governance, \n",
            "and a framework for investment. \n",
            "7. In order to establish action plans for improvements, a number of other policies\n",
            "\n",
            "pursuit of a high level of academic, non-academic, extracurricular, cultural, \n",
            "recreational, and learning environment. The SU also helps provide an \n",
            "opportunity for everyone to mix with fellow students from other countries and \n",
            "appreciate their cultures. \n",
            " \n",
            "All full-time students are members of the AIT Student Union, and are entitled \n",
            "to vote in the election for the General Assembly Speaker, Treasurer, General \n",
            "Secretary and Vice President. The Vice President becomes President of the SU \n",
            "in the succeeding semester. The Student Union operates with the following \n",
            "committees: Academic Affairs, Accommodation and Reservation, Campus and\n",
            "\n",
            "centers, on important research findings, innovation and publications, on major \n",
            "events such as the graduation, seminars, conferences, MOU signing ceremonies, \n",
            "including visits, and on other stories of particular interest and relevance. The stories \n",
            "are told in written, still or moving pictures, and/or in visual graphics across all its \n",
            "social media platforms and monthly newsletter – The Gazette. It also shares these \n",
            "stories with and answers to queries from public media around the world. The Weekly \n",
            "AIT Campus Bulletin which publicizes details of events held at or relevant to AIT is\n",
            "\n",
            "·         Main Post Office is located just outside the campus operates from \n",
            "8:30 a.m. to 4:00 p.m. (tel.: 02-516-8383). \n",
            "[O1]  Departing Persons \n",
            "All persons leaving AIT permanently are advised to leave their forwarding \n",
            "address with the AITCMS prior to their departure, if they are expecting any mail \n",
            "so that mail can be promptly forwarded to them instead of \"return to sender.\" \n",
            "Format to be followed for AIT Address: \n",
            " \n",
            "Student mail address: \n",
            "Student Name:  Student ID No.:     \n",
            " Department/Academic Program: \n",
            " \n",
            "School of              \n",
            "                          \n",
            "Asian Institute of Technology \n",
            "P.O. Box 4 \n",
            "Klong Luang Pathumthani \n",
            "12120, Thailand \n",
            " \n",
            " AIT Reception\n",
            "    Question: Who is AIT's president?\n",
            "    Answer:\u001b[0m\n",
            "\n",
            "\u001b[1m> Finished chain.\u001b[0m\n",
            "\n",
            "\u001b[1m> Finished chain.\u001b[0m\n",
            "\n",
            "\u001b[1m> Finished chain.\u001b[0m\n"
          ]
        },
        {
          "data": {
            "text/plain": [
              "{'question': \"Who is AIT's president?\",\n",
              " 'chat_history': [],\n",
              " 'answer': \"<pad> The  text  does  not  provide  any  information  about  AIT's  president.  The  President  is  the  head  of  the  AIT  Student  Union,  which  is  responsible  for  implementing  policies  and  ensuring  the  well-being  of  the  students.  The  Vice  President  becomes  President  of  the  SU  in  the  succeeding  semester.\\n\",\n",
              " 'source_documents': [Document(page_content='requirements made under the authority of this policy. \\n5. In discharging his/her responsibility to implement this Policy, the President may \\nbe assisted by the Campus Environment and Development Committee. \\n6. The Institute Master Plan is now four decades old, and no longer a relevant \\nguide for the development of the campus. A task force has been appointed by \\nthe President to update the plan, providing a framework for enabling AIT to \\ndevelop its campus as a model of good environmental practice and governance, \\nand a framework for investment. \\n7. In order to establish action plans for improvements, a number of other policies', metadata={'source': '/content/drive/MyDrive/Colab Notebooks/NLP/A7/data/pdf/Student-Handbook_August-2021.pdf', 'file_path': '/content/drive/MyDrive/Colab Notebooks/NLP/A7/data/pdf/Student-Handbook_August-2021.pdf', 'page': 44, 'total_pages': 95, 'format': 'PDF 1.6', 'title': '', 'author': '', 'subject': '', 'keywords': '', 'creator': 'RICOH MP C3004ex', 'producer': 'RICOH MP C3004ex', 'creationDate': \"D:20220811112929+08'00'\", 'modDate': \"D:20220811112021+07'00'\", 'trapped': ''}),\n",
              "  Document(page_content='pursuit of a high level of academic, non-academic, extracurricular, cultural, \\nrecreational, and learning environment. The SU also helps provide an \\nopportunity for everyone to mix with fellow students from other countries and \\nappreciate their cultures. \\n \\nAll full-time students are members of the AIT Student Union, and are entitled \\nto vote in the election for the General Assembly Speaker, Treasurer, General \\nSecretary and Vice President. The Vice President becomes President of the SU \\nin the succeeding semester. The Student Union operates with the following \\ncommittees: Academic Affairs, Accommodation and Reservation, Campus and', metadata={'source': '/content/drive/MyDrive/Colab Notebooks/NLP/A7/data/pdf/Student-Handbook_August-2021.pdf', 'file_path': '/content/drive/MyDrive/Colab Notebooks/NLP/A7/data/pdf/Student-Handbook_August-2021.pdf', 'page': 45, 'total_pages': 95, 'format': 'PDF 1.6', 'title': '', 'author': '', 'subject': '', 'keywords': '', 'creator': 'RICOH MP C3004ex', 'producer': 'RICOH MP C3004ex', 'creationDate': \"D:20220811112929+08'00'\", 'modDate': \"D:20220811112021+07'00'\", 'trapped': ''}),\n",
              "  Document(page_content='centers, on important research findings, innovation and publications, on major \\nevents such as the graduation, seminars, conferences, MOU signing ceremonies, \\nincluding visits, and on other stories of particular interest and relevance. The stories \\nare told in written, still or moving pictures, and/or in visual graphics across all its \\nsocial media platforms and monthly newsletter – The Gazette. It also shares these \\nstories with and answers to queries from public media around the world. The Weekly \\nAIT Campus Bulletin which publicizes details of events held at or relevant to AIT is', metadata={'source': '/content/drive/MyDrive/Colab Notebooks/NLP/A7/data/pdf/Student-Handbook_August-2021.pdf', 'file_path': '/content/drive/MyDrive/Colab Notebooks/NLP/A7/data/pdf/Student-Handbook_August-2021.pdf', 'page': 73, 'total_pages': 95, 'format': 'PDF 1.6', 'title': '', 'author': '', 'subject': '', 'keywords': '', 'creator': 'RICOH MP C3004ex', 'producer': 'RICOH MP C3004ex', 'creationDate': \"D:20220811112929+08'00'\", 'modDate': \"D:20220811112021+07'00'\", 'trapped': ''}),\n",
              "  Document(page_content='·         Main Post Office is located just outside the campus operates from \\n8:30 a.m. to 4:00 p.m. (tel.: 02-516-8383). \\n[O1]  Departing Persons \\nAll persons leaving AIT permanently are advised to leave their forwarding \\naddress with the AITCMS prior to their departure, if they are expecting any mail \\nso that mail can be promptly forwarded to them instead of \"return to sender.\" \\nFormat to be followed for AIT Address: \\n \\nStudent mail address: \\nStudent Name:  Student ID No.:     \\n Department/Academic Program: \\n \\nSchool of              \\n                          \\nAsian Institute of Technology \\nP.O. Box 4 \\nKlong Luang Pathumthani \\n12120, Thailand \\n \\n AIT Reception', metadata={'source': '/content/drive/MyDrive/Colab Notebooks/NLP/A7/data/pdf/Student-Handbook_August-2021.pdf', 'file_path': '/content/drive/MyDrive/Colab Notebooks/NLP/A7/data/pdf/Student-Handbook_August-2021.pdf', 'page': 73, 'total_pages': 95, 'format': 'PDF 1.6', 'title': '', 'author': '', 'subject': '', 'keywords': '', 'creator': 'RICOH MP C3004ex', 'producer': 'RICOH MP C3004ex', 'creationDate': \"D:20220811112929+08'00'\", 'modDate': \"D:20220811112021+07'00'\", 'trapped': ''})]}"
            ]
          },
          "execution_count": 79,
          "metadata": {},
          "output_type": "execute_result"
        }
      ],
      "source": [
        "prompt_question = \"Who is AIT's president?\"\n",
        "answer = chain({\"question\":prompt_question})\n",
        "answer"
      ]
    },
    {
      "cell_type": "code",
      "execution_count": 80,
      "metadata": {
        "colab": {
          "base_uri": "https://localhost:8080/"
        },
        "id": "f9Gwdpz0oNoz",
        "outputId": "8e0c3ac5-5d64-4d55-abac-5677c9fd9872"
      },
      "outputs": [
        {
          "name": "stdout",
          "output_type": "stream",
          "text": [
            "\n",
            "\n",
            "\u001b[1m> Entering new ConversationalRetrievalChain chain...\u001b[0m\n",
            "\n",
            "\n",
            "\u001b[1m> Entering new LLMChain chain...\u001b[0m\n",
            "Prompt after formatting:\n",
            "\u001b[32;1m\u001b[1;3mGiven the following conversation and a follow up question, rephrase the follow up question to be a standalone question, in its original language.\n",
            "\n",
            "Chat History:\n",
            "[HumanMessage(content=\"Who is AIT's president?\"), AIMessage(content=\"<pad> The  text  does  not  provide  any  information  about  AIT's  president.  The  President  is  the  head  of  the  AIT  Student  Union,  which  is  responsible  for  implementing  policies  and  ensuring  the  well-being  of  the  students.  The  Vice  President  becomes  President  of  the  SU  in  the  succeeding  semester.\\n\")]\n",
            "Follow Up Input: Where is AIT? What is its address\n",
            "Standalone question:\u001b[0m\n",
            "\n",
            "\u001b[1m> Finished chain.\u001b[0m\n",
            "\n",
            "\n",
            "\u001b[1m> Entering new StuffDocumentsChain chain...\u001b[0m\n",
            "\n",
            "\n",
            "\u001b[1m> Entering new LLMChain chain...\u001b[0m\n",
            "Prompt after formatting:\n",
            "\u001b[32;1m\u001b[1;3mI'm your friendly NLP chatbot named ChakyBot, here to assist Chaky and Gun with any questions they have about Natural Language Processing (NLP).\n",
            "    If you're curious about how probability works in the context of NLP, feel free to ask any questions you may have.\n",
            "    Whether it's about probabilistic models, language models, or any other related topic,\n",
            "    I'm here to help break down complex concepts into easy-to-understand explanations.\n",
            "    Just let me know what you're wondering about, and I'll do my best to guide you through it!\n",
            "    \n",
            "    Context: ·         Main Post Office is located just outside the campus operates from \n",
            "8:30 a.m. to 4:00 p.m. (tel.: 02-516-8383). \n",
            "[O1]  Departing Persons \n",
            "All persons leaving AIT permanently are advised to leave their forwarding \n",
            "address with the AITCMS prior to their departure, if they are expecting any mail \n",
            "so that mail can be promptly forwarded to them instead of \"return to sender.\" \n",
            "Format to be followed for AIT Address: \n",
            " \n",
            "Student mail address: \n",
            "Student Name:  Student ID No.:     \n",
            " Department/Academic Program: \n",
            " \n",
            "School of              \n",
            "                          \n",
            "Asian Institute of Technology \n",
            "P.O. Box 4 \n",
            "Klong Luang Pathumthani \n",
            "12120, Thailand \n",
            " \n",
            " AIT Reception\n",
            "\n",
            "Mails \n",
            "The AIT Campus Mail Services  \n",
            "Office Hours \n",
            "The AIT Campus Mail Service Office receives all the incoming postal mails \n",
            "addressed to AIT is located at Physical Plant building adjacent to \n",
            "Accommodation Office, operates Mondays through Friday, except on AIT \n",
            "recognized holidays, from 7:30 a.m. to 4:30 p.m. (tel. 02-524-5094). For the \n",
            "students to send the postal mail, there are two post offices accessible to \n",
            "students one within campus and other nearby the campus . \n",
            "·         Klong Luang Branch 1 Government Post Office located in \n",
            "Administration building, operates from 9:00 a.m. to 4:00 p.m. \n",
            "Mondays through Fridays. \n",
            "·         Another Post Office located just outside the campus\n",
            "\n",
            "P.O. Box 4 \n",
            "Klong Luang Pathumthani \n",
            "12120, Thailand \n",
            " \n",
            " AIT Reception \n",
            " \n",
            "AIT Reception is located at the AIT Admin Building. \n",
            "AIT telephone operator can be reached through telephone numbers 02-524- \n",
            "5000 and 02-524-5090. Incoming calls on these lines are received by an \n",
            "automatic answering machine through which the caller can key in the desired \n",
            "internal extension number or the line will be directed to the operator on duty. \n",
            "User can also call directly 02-524-xxxx, to connect directly to all internal \n",
            "extension numbers. \n",
            "The service hours for telephone/fax services are from Monday – Friday, 7:30 \n",
            "a.m. – 4:30 p.m. The office is closed on Saturdays and Sundays and during\n",
            "\n",
            "before consulting with the doctor for the diagnosis of any illness. Any medical expenses \n",
            "incurred will be changed to the Generali Insurance. If a doctor is not consulted, \n",
            "students will be required to pay in cash.  \n",
            " \n",
            "Medical Emergencies:  \n",
            " \n",
            "Emergency medical care is available at the AIT Medical Center at all times. In case of \n",
            "a medical emergency, please call 02-524-5555, the nurse will call the guard to take \n",
            "her to the patient’s location using the golf cart. If the patient needs to be taken to the \n",
            "hospital, the nurse will call the ambulance. \n",
            " \n",
            "The AIT Medical Center’s emergency care service is not a hospital emergency room.\n",
            "    Question: <pad> What  is  the  address  of  AIT?\n",
            "\n",
            "    Answer:\u001b[0m\n",
            "\n",
            "\u001b[1m> Finished chain.\u001b[0m\n",
            "\n",
            "\u001b[1m> Finished chain.\u001b[0m\n",
            "\n",
            "\u001b[1m> Finished chain.\u001b[0m\n"
          ]
        },
        {
          "data": {
            "text/plain": [
              "{'question': 'Where is AIT? What is its address',\n",
              " 'chat_history': [HumanMessage(content=\"Who is AIT's president?\"),\n",
              "  AIMessage(content=\"<pad> The  text  does  not  provide  any  information  about  AIT's  president.  The  President  is  the  head  of  the  AIT  Student  Union,  which  is  responsible  for  implementing  policies  and  ensuring  the  well-being  of  the  students.  The  Vice  President  becomes  President  of  the  SU  in  the  succeeding  semester.\\n\")],\n",
              " 'answer': '<pad>  P.O.  Box  4  Klong  Luang  Pathumthani  12120,  Thailand\\n',\n",
              " 'source_documents': [Document(page_content='·         Main Post Office is located just outside the campus operates from \\n8:30 a.m. to 4:00 p.m. (tel.: 02-516-8383). \\n[O1]  Departing Persons \\nAll persons leaving AIT permanently are advised to leave their forwarding \\naddress with the AITCMS prior to their departure, if they are expecting any mail \\nso that mail can be promptly forwarded to them instead of \"return to sender.\" \\nFormat to be followed for AIT Address: \\n \\nStudent mail address: \\nStudent Name:  Student ID No.:     \\n Department/Academic Program: \\n \\nSchool of              \\n                          \\nAsian Institute of Technology \\nP.O. Box 4 \\nKlong Luang Pathumthani \\n12120, Thailand \\n \\n AIT Reception', metadata={'source': '/content/drive/MyDrive/Colab Notebooks/NLP/A7/data/pdf/Student-Handbook_August-2021.pdf', 'file_path': '/content/drive/MyDrive/Colab Notebooks/NLP/A7/data/pdf/Student-Handbook_August-2021.pdf', 'page': 73, 'total_pages': 95, 'format': 'PDF 1.6', 'title': '', 'author': '', 'subject': '', 'keywords': '', 'creator': 'RICOH MP C3004ex', 'producer': 'RICOH MP C3004ex', 'creationDate': \"D:20220811112929+08'00'\", 'modDate': \"D:20220811112021+07'00'\", 'trapped': ''}),\n",
              "  Document(page_content='Mails \\nThe AIT Campus Mail Services  \\nOffice Hours \\nThe AIT Campus Mail Service Office receives all the incoming postal mails \\naddressed to AIT is located at Physical Plant building adjacent to \\nAccommodation Office, operates Mondays through Friday, except on AIT \\nrecognized holidays, from 7:30 a.m. to 4:30 p.m. (tel. 02-524-5094). For the \\nstudents to send the postal mail, there are two post offices accessible to \\nstudents one within campus and other nearby the campus . \\n·         Klong Luang Branch 1 Government Post Office located in \\nAdministration building, operates from 9:00 a.m. to 4:00 p.m. \\nMondays through Fridays. \\n·         Another Post Office located just outside the campus', metadata={'source': '/content/drive/MyDrive/Colab Notebooks/NLP/A7/data/pdf/Student-Handbook_August-2021.pdf', 'file_path': '/content/drive/MyDrive/Colab Notebooks/NLP/A7/data/pdf/Student-Handbook_August-2021.pdf', 'page': 72, 'total_pages': 95, 'format': 'PDF 1.6', 'title': '', 'author': '', 'subject': '', 'keywords': '', 'creator': 'RICOH MP C3004ex', 'producer': 'RICOH MP C3004ex', 'creationDate': \"D:20220811112929+08'00'\", 'modDate': \"D:20220811112021+07'00'\", 'trapped': ''}),\n",
              "  Document(page_content='P.O. Box 4 \\nKlong Luang Pathumthani \\n12120, Thailand \\n \\n AIT Reception \\n \\nAIT Reception is located at the AIT Admin Building. \\nAIT telephone operator can be reached through telephone numbers 02-524- \\n5000 and 02-524-5090. Incoming calls on these lines are received by an \\nautomatic answering machine through which the caller can key in the desired \\ninternal extension number or the line will be directed to the operator on duty. \\nUser can also call directly 02-524-xxxx, to connect directly to all internal \\nextension numbers. \\nThe service hours for telephone/fax services are from Monday – Friday, 7:30 \\na.m. – 4:30 p.m. The office is closed on Saturdays and Sundays and during', metadata={'source': '/content/drive/MyDrive/Colab Notebooks/NLP/A7/data/pdf/Student-Handbook_August-2021.pdf', 'file_path': '/content/drive/MyDrive/Colab Notebooks/NLP/A7/data/pdf/Student-Handbook_August-2021.pdf', 'page': 73, 'total_pages': 95, 'format': 'PDF 1.6', 'title': '', 'author': '', 'subject': '', 'keywords': '', 'creator': 'RICOH MP C3004ex', 'producer': 'RICOH MP C3004ex', 'creationDate': \"D:20220811112929+08'00'\", 'modDate': \"D:20220811112021+07'00'\", 'trapped': ''}),\n",
              "  Document(page_content='before consulting with the doctor for the diagnosis of any illness. Any medical expenses \\nincurred will be changed to the Generali Insurance. If a doctor is not consulted, \\nstudents will be required to pay in cash.  \\n \\nMedical Emergencies:  \\n \\nEmergency medical care is available at the AIT Medical Center at all times. In case of \\na medical emergency, please call 02-524-5555, the nurse will call the guard to take \\nher to the patient’s location using the golf cart. If the patient needs to be taken to the \\nhospital, the nurse will call the ambulance. \\n \\nThe AIT Medical Center’s emergency care service is not a hospital emergency room.', metadata={'source': '/content/drive/MyDrive/Colab Notebooks/NLP/A7/data/pdf/Student-Handbook_August-2021.pdf', 'file_path': '/content/drive/MyDrive/Colab Notebooks/NLP/A7/data/pdf/Student-Handbook_August-2021.pdf', 'page': 80, 'total_pages': 95, 'format': 'PDF 1.6', 'title': '', 'author': '', 'subject': '', 'keywords': '', 'creator': 'RICOH MP C3004ex', 'producer': 'RICOH MP C3004ex', 'creationDate': \"D:20220811112929+08'00'\", 'modDate': \"D:20220811112021+07'00'\", 'trapped': ''})]}"
            ]
          },
          "execution_count": 80,
          "metadata": {},
          "output_type": "execute_result"
        }
      ],
      "source": [
        "prompt_question = \"Where is AIT? What is its address\"\n",
        "answer = chain({\"question\":prompt_question})\n",
        "answer"
      ]
    },
    {
      "cell_type": "code",
      "execution_count": 81,
      "metadata": {
        "colab": {
          "base_uri": "https://localhost:8080/"
        },
        "id": "dJEA19kQoNo0",
        "outputId": "6a69f512-2004-4a4a-a9d0-ffead0644d4b"
      },
      "outputs": [
        {
          "name": "stdout",
          "output_type": "stream",
          "text": [
            "\n",
            "\n",
            "\u001b[1m> Entering new ConversationalRetrievalChain chain...\u001b[0m\n",
            "\n",
            "\n",
            "\u001b[1m> Entering new LLMChain chain...\u001b[0m\n",
            "Prompt after formatting:\n",
            "\u001b[32;1m\u001b[1;3mGiven the following conversation and a follow up question, rephrase the follow up question to be a standalone question, in its original language.\n",
            "\n",
            "Chat History:\n",
            "[HumanMessage(content=\"Who is AIT's president?\"), AIMessage(content=\"<pad> The  text  does  not  provide  any  information  about  AIT's  president.  The  President  is  the  head  of  the  AIT  Student  Union,  which  is  responsible  for  implementing  policies  and  ensuring  the  well-being  of  the  students.  The  Vice  President  becomes  President  of  the  SU  in  the  succeeding  semester.\\n\"), HumanMessage(content='Where is AIT? What is its address'), AIMessage(content='<pad>  P.O.  Box  4  Klong  Luang  Pathumthani  12120,  Thailand\\n')]\n",
            "Follow Up Input: How many students and faculties are in AIT?\n",
            "Standalone question:\u001b[0m\n",
            "\n",
            "\u001b[1m> Finished chain.\u001b[0m\n",
            "\n",
            "\n",
            "\u001b[1m> Entering new StuffDocumentsChain chain...\u001b[0m\n",
            "\n",
            "\n",
            "\u001b[1m> Entering new LLMChain chain...\u001b[0m\n",
            "Prompt after formatting:\n",
            "\u001b[32;1m\u001b[1;3mI'm your friendly NLP chatbot named ChakyBot, here to assist Chaky and Gun with any questions they have about Natural Language Processing (NLP).\n",
            "    If you're curious about how probability works in the context of NLP, feel free to ask any questions you may have.\n",
            "    Whether it's about probabilistic models, language models, or any other related topic,\n",
            "    I'm here to help break down complex concepts into easy-to-understand explanations.\n",
            "    Just let me know what you're wondering about, and I'll do my best to guide you through it!\n",
            "    \n",
            "    Context: a self-contained international community with a cosmopolitan approach to living and \n",
            "learning. \n",
            " \n",
            "Since 1959, AIT has carried out its mission “to develop highly qualified and committed \n",
            "professionals who play a leading role in the region’s sustainable development and its \n",
            "integration into the global economy” by supporting technological change and \n",
            "sustainable development through higher learning, research, capacity building and \n",
            "outreach. \n",
            " \n",
            "AIT’s renowned degree programs are administered by its School of Engineering and \n",
            "Technology; School of Environment, Resources and Development; and School of \n",
            "Management. Students benefit from challenging academic programs and exciting\n",
            "\n",
            "AIT’s main campus offers fast and easy access to Bangkok, a city at the crossroads of \n",
            "East, Southeast and South Asia. AIT has also established a key learning center in \n",
            "Vietnam. \n",
            " \n",
            "With friends all over the globe, a strong history of academic excellence, and an \n",
            "enduring reputation for responding to emerging regional and global challenges such as \n",
            "climate change and sustainability, AIT is advancing new understanding and applying \n",
            "relevant technological solutions across Asia through its knowledge hub in Thailand. \n",
            " \n",
            "AIT Quick Facts \n",
            "Students: 1,200 + from 40+ countries \n",
            "Faculty: 81 internationally recruited Faculty from 19 countries & 134 Adjunct faculty\n",
            "\n",
            "including all individual alumni.  \n",
            " \n",
            "Alumni Affairs will also actively create partnerships between AIT and alumni, and \n",
            "between alumni in areas of mutual interest. It will take a role in fostering interactions \n",
            "between the alumni and current students in the form of industrial mentorship,\n",
            "\n",
            "level teaching, research and outreach to meet regional needs. The aim is to promote \n",
            "collegiality and to develop a harmonious and supportive environment for study, work \n",
            "and living. \n",
            " \n",
            "This intention will be realized through the observance by all members of the AIT \n",
            "community, trustees, faculty, staff, and students including outreach program \n",
            "participants, of the following general principles, when on campus, at Institute outreach \n",
            "centers and at the venues of official Institute activities off-campus: \n",
            " \n",
            "1. Every member of the AIT community has a duty to help create and sustain an \n",
            "environment which is honest, fair and unprejudiced, founded on equality and\n",
            "    Question: <pad> How  many  students  and  faculties  are  there  at  AIT?\n",
            "\n",
            "    Answer:\u001b[0m\n",
            "\n",
            "\u001b[1m> Finished chain.\u001b[0m\n",
            "\n",
            "\u001b[1m> Finished chain.\u001b[0m\n",
            "\n",
            "\u001b[1m> Finished chain.\u001b[0m\n"
          ]
        },
        {
          "data": {
            "text/plain": [
              "{'question': 'How many students and faculties are in AIT?',\n",
              " 'chat_history': [HumanMessage(content=\"Who is AIT's president?\"),\n",
              "  AIMessage(content=\"<pad> The  text  does  not  provide  any  information  about  AIT's  president.  The  President  is  the  head  of  the  AIT  Student  Union,  which  is  responsible  for  implementing  policies  and  ensuring  the  well-being  of  the  students.  The  Vice  President  becomes  President  of  the  SU  in  the  succeeding  semester.\\n\"),\n",
              "  HumanMessage(content='Where is AIT? What is its address'),\n",
              "  AIMessage(content='<pad>  P.O.  Box  4  Klong  Luang  Pathumthani  12120,  Thailand\\n')],\n",
              " 'answer': '<pad>   pad>  1,200  +  from  40+  countries\\n                                                                                                                                                                                                                                               ',\n",
              " 'source_documents': [Document(page_content='a self-contained international community with a cosmopolitan approach to living and \\nlearning. \\n \\nSince 1959, AIT has carried out its mission “to develop highly qualified and committed \\nprofessionals who play a leading role in the region’s sustainable development and its \\nintegration into the global economy” by supporting technological change and \\nsustainable development through higher learning, research, capacity building and \\noutreach. \\n \\nAIT’s renowned degree programs are administered by its School of Engineering and \\nTechnology; School of Environment, Resources and Development; and School of \\nManagement. Students benefit from challenging academic programs and exciting', metadata={'source': '/content/drive/MyDrive/Colab Notebooks/NLP/A7/data/pdf/Student-Handbook_August-2021.pdf', 'file_path': '/content/drive/MyDrive/Colab Notebooks/NLP/A7/data/pdf/Student-Handbook_August-2021.pdf', 'page': 3, 'total_pages': 95, 'format': 'PDF 1.6', 'title': '', 'author': '', 'subject': '', 'keywords': '', 'creator': 'RICOH MP C3004ex', 'producer': 'RICOH MP C3004ex', 'creationDate': \"D:20220811112929+08'00'\", 'modDate': \"D:20220811112021+07'00'\", 'trapped': ''}),\n",
              "  Document(page_content='AIT’s main campus offers fast and easy access to Bangkok, a city at the crossroads of \\nEast, Southeast and South Asia. AIT has also established a key learning center in \\nVietnam. \\n \\nWith friends all over the globe, a strong history of academic excellence, and an \\nenduring reputation for responding to emerging regional and global challenges such as \\nclimate change and sustainability, AIT is advancing new understanding and applying \\nrelevant technological solutions across Asia through its knowledge hub in Thailand. \\n \\nAIT Quick Facts \\nStudents: 1,200 + from 40+ countries \\nFaculty: 81 internationally recruited Faculty from 19 countries & 134 Adjunct faculty', metadata={'source': '/content/drive/MyDrive/Colab Notebooks/NLP/A7/data/pdf/Student-Handbook_August-2021.pdf', 'file_path': '/content/drive/MyDrive/Colab Notebooks/NLP/A7/data/pdf/Student-Handbook_August-2021.pdf', 'page': 3, 'total_pages': 95, 'format': 'PDF 1.6', 'title': '', 'author': '', 'subject': '', 'keywords': '', 'creator': 'RICOH MP C3004ex', 'producer': 'RICOH MP C3004ex', 'creationDate': \"D:20220811112929+08'00'\", 'modDate': \"D:20220811112021+07'00'\", 'trapped': ''}),\n",
              "  Document(page_content='including all individual alumni.  \\n \\nAlumni Affairs will also actively create partnerships between AIT and alumni, and \\nbetween alumni in areas of mutual interest. It will take a role in fostering interactions \\nbetween the alumni and current students in the form of industrial mentorship,', metadata={'source': '/content/drive/MyDrive/Colab Notebooks/NLP/A7/data/pdf/Student-Handbook_August-2021.pdf', 'file_path': '/content/drive/MyDrive/Colab Notebooks/NLP/A7/data/pdf/Student-Handbook_August-2021.pdf', 'page': 92, 'total_pages': 95, 'format': 'PDF 1.6', 'title': '', 'author': '', 'subject': '', 'keywords': '', 'creator': 'RICOH MP C3004ex', 'producer': 'RICOH MP C3004ex', 'creationDate': \"D:20220811112929+08'00'\", 'modDate': \"D:20220811112021+07'00'\", 'trapped': ''}),\n",
              "  Document(page_content='level teaching, research and outreach to meet regional needs. The aim is to promote \\ncollegiality and to develop a harmonious and supportive environment for study, work \\nand living. \\n \\nThis intention will be realized through the observance by all members of the AIT \\ncommunity, trustees, faculty, staff, and students including outreach program \\nparticipants, of the following general principles, when on campus, at Institute outreach \\ncenters and at the venues of official Institute activities off-campus: \\n \\n1. Every member of the AIT community has a duty to help create and sustain an \\nenvironment which is honest, fair and unprejudiced, founded on equality and', metadata={'source': '/content/drive/MyDrive/Colab Notebooks/NLP/A7/data/pdf/Student-Handbook_August-2021.pdf', 'file_path': '/content/drive/MyDrive/Colab Notebooks/NLP/A7/data/pdf/Student-Handbook_August-2021.pdf', 'page': 33, 'total_pages': 95, 'format': 'PDF 1.6', 'title': '', 'author': '', 'subject': '', 'keywords': '', 'creator': 'RICOH MP C3004ex', 'producer': 'RICOH MP C3004ex', 'creationDate': \"D:20220811112929+08'00'\", 'modDate': \"D:20220811112021+07'00'\", 'trapped': ''})]}"
            ]
          },
          "execution_count": 81,
          "metadata": {},
          "output_type": "execute_result"
        }
      ],
      "source": [
        "prompt_question = \"How many students and faculties are in AIT?\"\n",
        "answer = chain({\"question\":prompt_question})\n",
        "answer"
      ]
    },
    {
      "cell_type": "code",
      "execution_count": 82,
      "metadata": {
        "colab": {
          "base_uri": "https://localhost:8080/",
          "height": 53
        },
        "id": "-ElZ39CMoNo2",
        "outputId": "116be0f0-1a2a-49c4-b042-9aa9c0ffb006"
      },
      "outputs": [
        {
          "data": {
            "application/vnd.google.colaboratory.intrinsic+json": {
              "type": "string"
            },
            "text/plain": [
              "'<pad>   pad>  1,200  +  from  40+  countries\\n                                                                                                                                                                                                                                               '"
            ]
          },
          "execution_count": 82,
          "metadata": {},
          "output_type": "execute_result"
        }
      ],
      "source": [
        "answer['answer']"
      ]
    },
    {
      "cell_type": "code",
      "execution_count": 81,
      "metadata": {
        "id": "kWe2nWLxoNo2"
      },
      "outputs": [],
      "source": []
    }
  ],
  "metadata": {
    "accelerator": "GPU",
    "colab": {
      "gpuType": "T4",
      "provenance": []
    },
    "kernelspec": {
      "display_name": "Python 3",
      "name": "python3"
    },
    "language_info": {
      "codemirror_mode": {
        "name": "ipython",
        "version": 3
      },
      "file_extension": ".py",
      "mimetype": "text/x-python",
      "name": "python",
      "nbconvert_exporter": "python",
      "pygments_lexer": "ipython3",
      "version": "3.11.7"
    }
  },
  "nbformat": 4,
  "nbformat_minor": 0
}
